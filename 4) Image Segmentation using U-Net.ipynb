{
 "cells": [
  {
   "cell_type": "markdown",
   "metadata": {},
   "source": [
    "#### Import modules"
   ]
  },
  {
   "cell_type": "code",
   "execution_count": 1,
   "metadata": {},
   "outputs": [
    {
     "name": "stderr",
     "output_type": "stream",
     "text": [
      "Using TensorFlow backend.\n"
     ]
    }
   ],
   "source": [
    "import os\n",
    "import sys\n",
    "import random\n",
    "import warnings\n",
    "\n",
    "import numpy as np\n",
    "import pandas as pd\n",
    "\n",
    "import matplotlib.pyplot as plt\n",
    "\n",
    "from tqdm import tqdm\n",
    "from itertools import chain\n",
    "from skimage.io import imread, imshow\n",
    "\n",
    "from keras.models import Model, load_model\n",
    "from keras.layers import Input\n",
    "from keras.layers.core import Dropout, Lambda\n",
    "from keras.layers.convolutional import Conv2D, Conv2DTranspose\n",
    "from keras.layers.pooling import MaxPooling2D\n",
    "from keras.layers.merge import concatenate\n",
    "from keras.callbacks import EarlyStopping, ModelCheckpoint\n",
    "from keras import backend as K\n",
    "import tensorflow as tf"
   ]
  },
  {
   "cell_type": "markdown",
   "metadata": {},
   "source": [
    "##### Set some parameters"
   ]
  },
  {
   "cell_type": "code",
   "execution_count": 2,
   "metadata": {},
   "outputs": [],
   "source": [
    "data = np.load('./segmentation_dir/data.npz')"
   ]
  },
  {
   "cell_type": "code",
   "execution_count": 3,
   "metadata": {},
   "outputs": [],
   "source": [
    "x_train= data['x_train']\n",
    "y_train = data['y_train']\n",
    "x_test = data['x_test']\n",
    "y_test = data['y_test']\n"
   ]
  },
  {
   "cell_type": "code",
   "execution_count": 4,
   "metadata": {},
   "outputs": [
    {
     "data": {
      "text/plain": [
       "((102, 256, 256, 3), (102, 256, 256, 1))"
      ]
     },
     "execution_count": 4,
     "metadata": {},
     "output_type": "execute_result"
    }
   ],
   "source": [
    "x_train.shape, y_train.shape"
   ]
  },
  {
   "cell_type": "code",
   "execution_count": 5,
   "metadata": {},
   "outputs": [],
   "source": [
    "img_width = x_train.shape[1]\n",
    "img_height =x_train.shape[2]\n",
    "img_bands = x_train.shape[3]"
   ]
  },
  {
   "cell_type": "markdown",
   "metadata": {},
   "source": [
    "#### Normalization"
   ]
  },
  {
   "cell_type": "code",
   "execution_count": 6,
   "metadata": {},
   "outputs": [],
   "source": [
    "inputs = Input((img_width, img_height, img_bands))\n",
    "s = Lambda(lambda x: x / 255) (inputs)"
   ]
  },
  {
   "cell_type": "markdown",
   "metadata": {},
   "source": [
    "#### Build U-Net model"
   ]
  },
  {
   "cell_type": "code",
   "execution_count": 7,
   "metadata": {},
   "outputs": [],
   "source": [
    "\n",
    "\n",
    "c1 = Conv2D(16, (3, 3), activation='elu', kernel_initializer='he_normal', padding='same') (s)\n",
    "c1 = Dropout(0.1) (c1)\n",
    "c1 = Conv2D(16, (3, 3), activation='elu', kernel_initializer='he_normal', padding='same') (c1)\n",
    "p1 = MaxPooling2D((2, 2)) (c1)\n",
    "\n",
    "c2 = Conv2D(32, (3, 3), activation='elu', kernel_initializer='he_normal', padding='same') (p1)\n",
    "c2 = Dropout(0.1) (c2)\n",
    "c2 = Conv2D(32, (3, 3), activation='elu', kernel_initializer='he_normal', padding='same') (c2)\n",
    "p2 = MaxPooling2D((2, 2)) (c2)\n",
    "\n",
    "c3 = Conv2D(64, (3, 3), activation='elu', kernel_initializer='he_normal', padding='same') (p2)\n",
    "c3 = Dropout(0.2) (c3)\n",
    "c3 = Conv2D(64, (3, 3), activation='elu', kernel_initializer='he_normal', padding='same') (c3)\n",
    "p3 = MaxPooling2D((2, 2)) (c3)\n",
    "\n",
    "c4 = Conv2D(128, (3, 3), activation='elu', kernel_initializer='he_normal', padding='same') (p3)\n",
    "c4 = Dropout(0.2) (c4)\n",
    "c4 = Conv2D(128, (3, 3), activation='elu', kernel_initializer='he_normal', padding='same') (c4)\n",
    "p4 = MaxPooling2D(pool_size=(2, 2)) (c4)\n",
    "\n",
    "c5 = Conv2D(256, (3, 3), activation='elu', kernel_initializer='he_normal', padding='same') (p4)\n",
    "c5 = Dropout(0.3) (c5)\n",
    "c5 = Conv2D(256, (3, 3), activation='elu', kernel_initializer='he_normal', padding='same') (c5)\n",
    "\n",
    "u6 = Conv2DTranspose(128, (2, 2), strides=(2, 2), padding='same') (c5)\n",
    "u6 = concatenate([u6, c4])\n",
    "c6 = Conv2D(128, (3, 3), activation='elu', kernel_initializer='he_normal', padding='same') (u6)\n",
    "c6 = Dropout(0.2) (c6)\n",
    "c6 = Conv2D(128, (3, 3), activation='elu', kernel_initializer='he_normal', padding='same') (c6)\n",
    "\n",
    "u7 = Conv2DTranspose(64, (2, 2), strides=(2, 2), padding='same') (c6)\n",
    "u7 = concatenate([u7, c3])\n",
    "c7 = Conv2D(64, (3, 3), activation='elu', kernel_initializer='he_normal', padding='same') (u7)\n",
    "c7 = Dropout(0.2) (c7)\n",
    "c7 = Conv2D(64, (3, 3), activation='elu', kernel_initializer='he_normal', padding='same') (c7)\n",
    "\n",
    "u8 = Conv2DTranspose(32, (2, 2), strides=(2, 2), padding='same') (c7)\n",
    "u8 = concatenate([u8, c2])\n",
    "c8 = Conv2D(32, (3, 3), activation='elu', kernel_initializer='he_normal', padding='same') (u8)\n",
    "c8 = Dropout(0.1) (c8)\n",
    "c8 = Conv2D(32, (3, 3), activation='elu', kernel_initializer='he_normal', padding='same') (c8)\n",
    "\n",
    "u9 = Conv2DTranspose(16, (2, 2), strides=(2, 2), padding='same') (c8)\n",
    "u9 = concatenate([u9, c1], axis=3)\n",
    "c9 = Conv2D(16, (3, 3), activation='elu', kernel_initializer='he_normal', padding='same') (u9)\n",
    "c9 = Dropout(0.1) (c9)\n",
    "c9 = Conv2D(16, (3, 3), activation='elu', kernel_initializer='he_normal', padding='same') (c9)\n",
    "\n",
    "outputs = Conv2D(1, (1, 1), activation='sigmoid') (c9)\n"
   ]
  },
  {
   "cell_type": "markdown",
   "metadata": {},
   "source": [
    "Compile model"
   ]
  },
  {
   "cell_type": "code",
   "execution_count": 8,
   "metadata": {},
   "outputs": [
    {
     "name": "stdout",
     "output_type": "stream",
     "text": [
      "__________________________________________________________________________________________________\n",
      "Layer (type)                    Output Shape         Param #     Connected to                     \n",
      "==================================================================================================\n",
      "input_1 (InputLayer)            (None, 256, 256, 3)  0                                            \n",
      "__________________________________________________________________________________________________\n",
      "lambda_1 (Lambda)               (None, 256, 256, 3)  0           input_1[0][0]                    \n",
      "__________________________________________________________________________________________________\n",
      "conv2d_1 (Conv2D)               (None, 256, 256, 16) 448         lambda_1[0][0]                   \n",
      "__________________________________________________________________________________________________\n",
      "dropout_1 (Dropout)             (None, 256, 256, 16) 0           conv2d_1[0][0]                   \n",
      "__________________________________________________________________________________________________\n",
      "conv2d_2 (Conv2D)               (None, 256, 256, 16) 2320        dropout_1[0][0]                  \n",
      "__________________________________________________________________________________________________\n",
      "max_pooling2d_1 (MaxPooling2D)  (None, 128, 128, 16) 0           conv2d_2[0][0]                   \n",
      "__________________________________________________________________________________________________\n",
      "conv2d_3 (Conv2D)               (None, 128, 128, 32) 4640        max_pooling2d_1[0][0]            \n",
      "__________________________________________________________________________________________________\n",
      "dropout_2 (Dropout)             (None, 128, 128, 32) 0           conv2d_3[0][0]                   \n",
      "__________________________________________________________________________________________________\n",
      "conv2d_4 (Conv2D)               (None, 128, 128, 32) 9248        dropout_2[0][0]                  \n",
      "__________________________________________________________________________________________________\n",
      "max_pooling2d_2 (MaxPooling2D)  (None, 64, 64, 32)   0           conv2d_4[0][0]                   \n",
      "__________________________________________________________________________________________________\n",
      "conv2d_5 (Conv2D)               (None, 64, 64, 64)   18496       max_pooling2d_2[0][0]            \n",
      "__________________________________________________________________________________________________\n",
      "dropout_3 (Dropout)             (None, 64, 64, 64)   0           conv2d_5[0][0]                   \n",
      "__________________________________________________________________________________________________\n",
      "conv2d_6 (Conv2D)               (None, 64, 64, 64)   36928       dropout_3[0][0]                  \n",
      "__________________________________________________________________________________________________\n",
      "max_pooling2d_3 (MaxPooling2D)  (None, 32, 32, 64)   0           conv2d_6[0][0]                   \n",
      "__________________________________________________________________________________________________\n",
      "conv2d_7 (Conv2D)               (None, 32, 32, 128)  73856       max_pooling2d_3[0][0]            \n",
      "__________________________________________________________________________________________________\n",
      "dropout_4 (Dropout)             (None, 32, 32, 128)  0           conv2d_7[0][0]                   \n",
      "__________________________________________________________________________________________________\n",
      "conv2d_8 (Conv2D)               (None, 32, 32, 128)  147584      dropout_4[0][0]                  \n",
      "__________________________________________________________________________________________________\n",
      "max_pooling2d_4 (MaxPooling2D)  (None, 16, 16, 128)  0           conv2d_8[0][0]                   \n",
      "__________________________________________________________________________________________________\n",
      "conv2d_9 (Conv2D)               (None, 16, 16, 256)  295168      max_pooling2d_4[0][0]            \n",
      "__________________________________________________________________________________________________\n",
      "dropout_5 (Dropout)             (None, 16, 16, 256)  0           conv2d_9[0][0]                   \n",
      "__________________________________________________________________________________________________\n",
      "conv2d_10 (Conv2D)              (None, 16, 16, 256)  590080      dropout_5[0][0]                  \n",
      "__________________________________________________________________________________________________\n",
      "conv2d_transpose_1 (Conv2DTrans (None, 32, 32, 128)  131200      conv2d_10[0][0]                  \n",
      "__________________________________________________________________________________________________\n",
      "concatenate_1 (Concatenate)     (None, 32, 32, 256)  0           conv2d_transpose_1[0][0]         \n",
      "                                                                 conv2d_8[0][0]                   \n",
      "__________________________________________________________________________________________________\n",
      "conv2d_11 (Conv2D)              (None, 32, 32, 128)  295040      concatenate_1[0][0]              \n",
      "__________________________________________________________________________________________________\n",
      "dropout_6 (Dropout)             (None, 32, 32, 128)  0           conv2d_11[0][0]                  \n",
      "__________________________________________________________________________________________________\n",
      "conv2d_12 (Conv2D)              (None, 32, 32, 128)  147584      dropout_6[0][0]                  \n",
      "__________________________________________________________________________________________________\n",
      "conv2d_transpose_2 (Conv2DTrans (None, 64, 64, 64)   32832       conv2d_12[0][0]                  \n",
      "__________________________________________________________________________________________________\n",
      "concatenate_2 (Concatenate)     (None, 64, 64, 128)  0           conv2d_transpose_2[0][0]         \n",
      "                                                                 conv2d_6[0][0]                   \n",
      "__________________________________________________________________________________________________\n",
      "conv2d_13 (Conv2D)              (None, 64, 64, 64)   73792       concatenate_2[0][0]              \n",
      "__________________________________________________________________________________________________\n",
      "dropout_7 (Dropout)             (None, 64, 64, 64)   0           conv2d_13[0][0]                  \n",
      "__________________________________________________________________________________________________\n",
      "conv2d_14 (Conv2D)              (None, 64, 64, 64)   36928       dropout_7[0][0]                  \n",
      "__________________________________________________________________________________________________\n",
      "conv2d_transpose_3 (Conv2DTrans (None, 128, 128, 32) 8224        conv2d_14[0][0]                  \n",
      "__________________________________________________________________________________________________\n",
      "concatenate_3 (Concatenate)     (None, 128, 128, 64) 0           conv2d_transpose_3[0][0]         \n",
      "                                                                 conv2d_4[0][0]                   \n",
      "__________________________________________________________________________________________________\n",
      "conv2d_15 (Conv2D)              (None, 128, 128, 32) 18464       concatenate_3[0][0]              \n",
      "__________________________________________________________________________________________________\n",
      "dropout_8 (Dropout)             (None, 128, 128, 32) 0           conv2d_15[0][0]                  \n",
      "__________________________________________________________________________________________________\n",
      "conv2d_16 (Conv2D)              (None, 128, 128, 32) 9248        dropout_8[0][0]                  \n",
      "__________________________________________________________________________________________________\n",
      "conv2d_transpose_4 (Conv2DTrans (None, 256, 256, 16) 2064        conv2d_16[0][0]                  \n",
      "__________________________________________________________________________________________________\n",
      "concatenate_4 (Concatenate)     (None, 256, 256, 32) 0           conv2d_transpose_4[0][0]         \n",
      "                                                                 conv2d_2[0][0]                   \n",
      "__________________________________________________________________________________________________\n",
      "conv2d_17 (Conv2D)              (None, 256, 256, 16) 4624        concatenate_4[0][0]              \n",
      "__________________________________________________________________________________________________\n",
      "dropout_9 (Dropout)             (None, 256, 256, 16) 0           conv2d_17[0][0]                  \n",
      "__________________________________________________________________________________________________\n",
      "conv2d_18 (Conv2D)              (None, 256, 256, 16) 2320        dropout_9[0][0]                  \n",
      "__________________________________________________________________________________________________\n",
      "conv2d_19 (Conv2D)              (None, 256, 256, 1)  17          conv2d_18[0][0]                  \n",
      "==================================================================================================\n",
      "Total params: 1,941,105\n",
      "Trainable params: 1,941,105\n",
      "Non-trainable params: 0\n",
      "__________________________________________________________________________________________________\n"
     ]
    }
   ],
   "source": [
    "model = Model(inputs=[inputs], outputs=[outputs])\n",
    "model.compile(optimizer='adam', loss='binary_crossentropy', metrics=[\"accuracy\"])\n",
    "model.summary()"
   ]
  },
  {
   "cell_type": "code",
   "execution_count": 9,
   "metadata": {},
   "outputs": [
    {
     "name": "stdout",
     "output_type": "stream",
     "text": [
      "Train on 91 samples, validate on 11 samples\n",
      "Epoch 1/25\n",
      " - 36s - loss: 0.3283 - acc: 0.8854 - val_loss: 0.1606 - val_acc: 0.9673\n",
      "\n",
      "Epoch 00001: val_loss improved from inf to 0.16056, saving model to model.h5\n",
      "Epoch 2/25\n",
      " - 34s - loss: 0.2480 - acc: 0.9463 - val_loss: 0.1647 - val_acc: 0.9673\n",
      "\n",
      "Epoch 00002: val_loss did not improve from 0.16056\n",
      "Epoch 3/25\n",
      " - 34s - loss: 0.2281 - acc: 0.9463 - val_loss: 0.1551 - val_acc: 0.9673\n",
      "\n",
      "Epoch 00003: val_loss improved from 0.16056 to 0.15509, saving model to model.h5\n",
      "Epoch 4/25\n",
      " - 34s - loss: 0.2219 - acc: 0.9463 - val_loss: 0.1463 - val_acc: 0.9673\n",
      "\n",
      "Epoch 00004: val_loss improved from 0.15509 to 0.14627, saving model to model.h5\n",
      "Epoch 5/25\n",
      " - 34s - loss: 0.2139 - acc: 0.9463 - val_loss: 0.1417 - val_acc: 0.9673\n",
      "\n",
      "Epoch 00005: val_loss improved from 0.14627 to 0.14166, saving model to model.h5\n",
      "Epoch 6/25\n",
      " - 34s - loss: 0.2219 - acc: 0.9462 - val_loss: 0.1424 - val_acc: 0.9673\n",
      "\n",
      "Epoch 00006: val_loss did not improve from 0.14166\n",
      "Epoch 7/25\n",
      " - 34s - loss: 0.2150 - acc: 0.9463 - val_loss: 0.1445 - val_acc: 0.9673\n",
      "\n",
      "Epoch 00007: val_loss did not improve from 0.14166\n",
      "Epoch 8/25\n",
      " - 34s - loss: 0.2091 - acc: 0.9463 - val_loss: 0.1410 - val_acc: 0.9673\n",
      "\n",
      "Epoch 00008: val_loss improved from 0.14166 to 0.14098, saving model to model.h5\n",
      "Epoch 9/25\n",
      " - 34s - loss: 0.2028 - acc: 0.9463 - val_loss: 0.1379 - val_acc: 0.9673\n",
      "\n",
      "Epoch 00009: val_loss improved from 0.14098 to 0.13793, saving model to model.h5\n",
      "Epoch 10/25\n",
      " - 34s - loss: 0.2053 - acc: 0.9463 - val_loss: 0.1409 - val_acc: 0.9673\n",
      "\n",
      "Epoch 00010: val_loss did not improve from 0.13793\n",
      "Epoch 11/25\n",
      " - 34s - loss: 0.2094 - acc: 0.9462 - val_loss: 0.1401 - val_acc: 0.9673\n",
      "\n",
      "Epoch 00011: val_loss did not improve from 0.13793\n",
      "Epoch 12/25\n",
      " - 34s - loss: 0.2006 - acc: 0.9463 - val_loss: 0.1376 - val_acc: 0.9673\n",
      "\n",
      "Epoch 00012: val_loss improved from 0.13793 to 0.13760, saving model to model.h5\n",
      "Epoch 13/25\n",
      " - 34s - loss: 0.1975 - acc: 0.9462 - val_loss: 0.1360 - val_acc: 0.9673\n",
      "\n",
      "Epoch 00013: val_loss improved from 0.13760 to 0.13602, saving model to model.h5\n",
      "Epoch 14/25\n",
      " - 34s - loss: 0.1967 - acc: 0.9462 - val_loss: 0.1377 - val_acc: 0.9673\n",
      "\n",
      "Epoch 00014: val_loss did not improve from 0.13602\n",
      "Epoch 15/25\n",
      " - 35s - loss: 0.1979 - acc: 0.9462 - val_loss: 0.1358 - val_acc: 0.9673\n",
      "\n",
      "Epoch 00015: val_loss improved from 0.13602 to 0.13578, saving model to model.h5\n",
      "Epoch 16/25\n",
      " - 35s - loss: 0.2003 - acc: 0.9462 - val_loss: 0.1347 - val_acc: 0.9673\n",
      "\n",
      "Epoch 00016: val_loss improved from 0.13578 to 0.13470, saving model to model.h5\n",
      "Epoch 17/25\n",
      " - 35s - loss: 0.1972 - acc: 0.9463 - val_loss: 0.1399 - val_acc: 0.9673\n",
      "\n",
      "Epoch 00017: val_loss did not improve from 0.13470\n",
      "Epoch 18/25\n",
      " - 34s - loss: 0.1960 - acc: 0.9462 - val_loss: 0.1342 - val_acc: 0.9673\n",
      "\n",
      "Epoch 00018: val_loss improved from 0.13470 to 0.13417, saving model to model.h5\n",
      "Epoch 19/25\n",
      " - 34s - loss: 0.1954 - acc: 0.9462 - val_loss: 0.1345 - val_acc: 0.9673\n",
      "\n",
      "Epoch 00019: val_loss did not improve from 0.13417\n",
      "Epoch 20/25\n",
      " - 35s - loss: 0.1953 - acc: 0.9461 - val_loss: 0.1419 - val_acc: 0.9673\n",
      "\n",
      "Epoch 00020: val_loss did not improve from 0.13417\n",
      "Epoch 21/25\n",
      " - 35s - loss: 0.2038 - acc: 0.9461 - val_loss: 0.1348 - val_acc: 0.9673\n",
      "\n",
      "Epoch 00021: val_loss did not improve from 0.13417\n",
      "Epoch 22/25\n",
      " - 35s - loss: 0.2003 - acc: 0.9463 - val_loss: 0.1563 - val_acc: 0.9673\n",
      "\n",
      "Epoch 00022: val_loss did not improve from 0.13417\n",
      "Epoch 23/25\n",
      " - 34s - loss: 0.1978 - acc: 0.9463 - val_loss: 0.1352 - val_acc: 0.9673\n",
      "\n",
      "Epoch 00023: val_loss did not improve from 0.13417\n",
      "Epoch 00023: early stopping\n"
     ]
    }
   ],
   "source": [
    "# Fit model\n",
    "earlystopper = EarlyStopping(patience=5, verbose=1)\n",
    "checkpointer = ModelCheckpoint('model.h5', verbose=1, save_best_only=True)\n",
    "\n",
    "results = model.fit(x_train, y_train, \n",
    "                    validation_split=0.1, \n",
    "                    batch_size=16, epochs=25, \n",
    "                    verbose=2,\n",
    "                    callbacks=[earlystopper, checkpointer])"
   ]
  },
  {
   "cell_type": "code",
   "execution_count": 100,
   "metadata": {},
   "outputs": [
    {
     "data": {
      "image/png": "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\n",
      "text/plain": [
       "<Figure size 1080x360 with 2 Axes>"
      ]
     },
     "metadata": {},
     "output_type": "display_data"
    }
   ],
   "source": [
    "\n",
    "\n",
    "fig, ax = plt.subplots(1, 2, figsize=(15,5))\n",
    "\n",
    "ax[0].plot(results.history['loss'], color='b', label=\"Train loss\")\n",
    "ax[0].plot(results.history['val_loss'], color='r',  label=\"Validation loss\")\n",
    "\n",
    "ax[0].plot(np.argmin(results.history[\"val_loss\"]), \n",
    "         np.min(results.history[\"val_loss\"]), \n",
    "         marker=\"x\", color=\"#000000\", label=\"best epoch\")\n",
    "\n",
    "ax[1].plot(results.history['acc'], color='b', label=\"Train accuracy\")\n",
    "ax[1].plot(results.history['val_acc'], color='r',label=\"Validation acc\")\n",
    "ax[0].legend()\n",
    "ax[1].legend()\n",
    "plt.show()\n",
    "\n",
    "plt.show()"
   ]
  },
  {
   "cell_type": "markdown",
   "metadata": {},
   "source": [
    "### Prediction"
   ]
  },
  {
   "cell_type": "code",
   "execution_count": 9,
   "metadata": {},
   "outputs": [
    {
     "name": "stdout",
     "output_type": "stream",
     "text": [
      "91/91 [==============================] - 12s 130ms/step\n",
      "11/11 [==============================] - 1s 125ms/step\n",
      "26/26 [==============================] - 3s 122ms/step\n"
     ]
    }
   ],
   "source": [
    "# Predict on train, val and test\n",
    "model = load_model('model.h5')\n",
    "preds_train = model.predict(x_train[:int(x_train.shape[0]*0.9)], verbose=1)\n",
    "preds_val = model.predict(x_train[int(x_train.shape[0]*0.9):], verbose=1)\n",
    "preds_test = model.predict(x_test, verbose=1)\n",
    "\n",
    "# Threshold predictions\n",
    "preds_train_t = (preds_train > 0.5).astype(np.uint8)\n",
    "preds_val_t = (preds_val > 0.5).astype(np.uint8)\n",
    "preds_test_t = (preds_test > 0.5).astype(np.uint8)"
   ]
  },
  {
   "cell_type": "markdown",
   "metadata": {},
   "source": [
    "#### Plot outputs"
   ]
  },
  {
   "cell_type": "code",
   "execution_count": 10,
   "metadata": {},
   "outputs": [],
   "source": [
    "def plot_sample(X, y, preds, binary_preds, ix=None):\n",
    "    if ix is None:\n",
    "        ix = random.randint(0, len(X))\n",
    "\n",
    "    has_mask = y[ix].max() > 0\n",
    "\n",
    "    fig, ax = plt.subplots(1, 4, figsize=(20, 10))\n",
    "    \n",
    "    plt.subplot(141), plt.imshow(X[ix,])\n",
    "    plt.title('Training Data')\n",
    "    plt.xticks([])\n",
    "    plt.yticks([])\n",
    "    \n",
    "    plt.subplot(142),plt.imshow(y[ix].squeeze())\n",
    "    plt.title('Label Data')\n",
    "    plt.xticks([])\n",
    "    plt.yticks([])\n",
    "\n",
    "    plt.subplot(143),plt.imshow(preds[ix].squeeze())\n",
    "    if has_mask:\n",
    "        plt.contour(y[ix].squeeze(), colors='r', levels=[0.5])\n",
    "    plt.title('Predicted output')\n",
    "    plt.xticks([])\n",
    "    plt.yticks([])\n",
    "    \n",
    "    plt.subplot(144),plt.imshow(binary_preds[ix].squeeze(), vmin=0, vmax=1)\n",
    "    if has_mask:\n",
    "        plt.contour(y[ix].squeeze(), colors='r', levels=[0.5])\n",
    "    plt.title('Predicted Binary output')\n",
    "    plt.xticks([])\n",
    "    plt.yticks([])\n",
    "  "
   ]
  },
  {
   "cell_type": "markdown",
   "metadata": {},
   "source": [
    "Prediction over training data"
   ]
  },
  {
   "cell_type": "code",
   "execution_count": 11,
   "metadata": {},
   "outputs": [
    {
     "data": {
      "image/png": "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