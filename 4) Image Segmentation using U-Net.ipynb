{
 "cells": [
  {
   "cell_type": "markdown",
   "metadata": {},
   "source": [
    "#### Import modules"
   ]
  },
  {
   "cell_type": "code",
   "execution_count": 1,
   "metadata": {},
   "outputs": [
    {
     "name": "stderr",
     "output_type": "stream",
     "text": [
      "Using TensorFlow backend.\n"
     ]
    }
   ],
   "source": [
    "import os\n",
    "import sys\n",
    "import random\n",
    "import warnings\n",
    "\n",
    "import numpy as np\n",
    "import pandas as pd\n",
    "\n",
    "import matplotlib.pyplot as plt\n",
    "\n",
    "from tqdm import tqdm\n",
    "from itertools import chain\n",
    "from skimage.io import imread, imshow\n",
    "\n",
    "from keras.models import Model, load_model\n",
    "from keras.layers import Input\n",
    "from keras.layers.core import Dropout, Lambda\n",
    "from keras.layers.convolutional import Conv2D, Conv2DTranspose\n",
    "from keras.layers.pooling import MaxPooling2D\n",
    "from keras.layers.merge import concatenate\n",
    "from keras.callbacks import EarlyStopping, ModelCheckpoint\n",
    "from keras import backend as K\n",
    "import tensorflow as tf"
   ]
  },
  {
   "cell_type": "markdown",
   "metadata": {},
   "source": [
    "##### Set some parameters"
   ]
  },
  {
   "cell_type": "code",
   "execution_count": 2,
   "metadata": {},
   "outputs": [],
   "source": [
    "data = np.load('./segmentation_dir/data.npz')"
   ]
  },
  {
   "cell_type": "code",
   "execution_count": 3,
   "metadata": {},
   "outputs": [],
   "source": [
    "x_train= data['x_train']\n",
    "y_train = data['y_train']\n",
    "x_test = data['x_test']\n",
    "y_test = data['y_test']\n"
   ]
  },
  {
   "cell_type": "code",
   "execution_count": 4,
   "metadata": {},
   "outputs": [
    {
     "data": {
      "text/plain": [
       "((102, 256, 256, 3), (102, 256, 256, 1))"
      ]
     },
     "execution_count": 4,
     "metadata": {},
     "output_type": "execute_result"
    }
   ],
   "source": [
    "x_train.shape, y_train.shape"
   ]
  },
  {
   "cell_type": "code",
   "execution_count": 5,
   "metadata": {},
   "outputs": [],
   "source": [
    "img_width = x_train.shape[1]\n",
    "img_height =x_train.shape[2]\n",
    "img_bands = x_train.shape[3]"
   ]
  },
  {
   "cell_type": "markdown",
   "metadata": {},
   "source": [
    "#### Normalization"
   ]
  },
  {
   "cell_type": "code",
   "execution_count": 6,
   "metadata": {},
   "outputs": [],
   "source": [
    "inputs = Input((img_width, img_height, img_bands))\n",
    "s = Lambda(lambda x: x / 255) (inputs)"
   ]
  },
  {
   "cell_type": "markdown",
   "metadata": {},
   "source": [
    "#### Build U-Net model"
   ]
  },
  {
   "cell_type": "code",
   "execution_count": 7,
   "metadata": {},
   "outputs": [],
   "source": [
    "\n",
    "\n",
    "c1 = Conv2D(16, (3, 3), activation='elu', kernel_initializer='he_normal', padding='same') (s)\n",
    "c1 = Dropout(0.1) (c1)\n",
    "c1 = Conv2D(16, (3, 3), activation='elu', kernel_initializer='he_normal', padding='same') (c1)\n",
    "p1 = MaxPooling2D((2, 2)) (c1)\n",
    "\n",
    "c2 = Conv2D(32, (3, 3), activation='elu', kernel_initializer='he_normal', padding='same') (p1)\n",
    "c2 = Dropout(0.1) (c2)\n",
    "c2 = Conv2D(32, (3, 3), activation='elu', kernel_initializer='he_normal', padding='same') (c2)\n",
    "p2 = MaxPooling2D((2, 2)) (c2)\n",
    "\n",
    "c3 = Conv2D(64, (3, 3), activation='elu', kernel_initializer='he_normal', padding='same') (p2)\n",
    "c3 = Dropout(0.2) (c3)\n",
    "c3 = Conv2D(64, (3, 3), activation='elu', kernel_initializer='he_normal', padding='same') (c3)\n",
    "p3 = MaxPooling2D((2, 2)) (c3)\n",
    "\n",
    "c4 = Conv2D(128, (3, 3), activation='elu', kernel_initializer='he_normal', padding='same') (p3)\n",
    "c4 = Dropout(0.2) (c4)\n",
    "c4 = Conv2D(128, (3, 3), activation='elu', kernel_initializer='he_normal', padding='same') (c4)\n",
    "p4 = MaxPooling2D(pool_size=(2, 2)) (c4)\n",
    "\n",
    "c5 = Conv2D(256, (3, 3), activation='elu', kernel_initializer='he_normal', padding='same') (p4)\n",
    "c5 = Dropout(0.3) (c5)\n",
    "c5 = Conv2D(256, (3, 3), activation='elu', kernel_initializer='he_normal', padding='same') (c5)\n",
    "\n",
    "u6 = Conv2DTranspose(128, (2, 2), strides=(2, 2), padding='same') (c5)\n",
    "u6 = concatenate([u6, c4])\n",
    "c6 = Conv2D(128, (3, 3), activation='elu', kernel_initializer='he_normal', padding='same') (u6)\n",
    "c6 = Dropout(0.2) (c6)\n",
    "c6 = Conv2D(128, (3, 3), activation='elu', kernel_initializer='he_normal', padding='same') (c6)\n",
    "\n",
    "u7 = Conv2DTranspose(64, (2, 2), strides=(2, 2), padding='same') (c6)\n",
    "u7 = concatenate([u7, c3])\n",
    "c7 = Conv2D(64, (3, 3), activation='elu', kernel_initializer='he_normal', padding='same') (u7)\n",
    "c7 = Dropout(0.2) (c7)\n",
    "c7 = Conv2D(64, (3, 3), activation='elu', kernel_initializer='he_normal', padding='same') (c7)\n",
    "\n",
    "u8 = Conv2DTranspose(32, (2, 2), strides=(2, 2), padding='same') (c7)\n",
    "u8 = concatenate([u8, c2])\n",
    "c8 = Conv2D(32, (3, 3), activation='elu', kernel_initializer='he_normal', padding='same') (u8)\n",
    "c8 = Dropout(0.1) (c8)\n",
    "c8 = Conv2D(32, (3, 3), activation='elu', kernel_initializer='he_normal', padding='same') (c8)\n",
    "\n",
    "u9 = Conv2DTranspose(16, (2, 2), strides=(2, 2), padding='same') (c8)\n",
    "u9 = concatenate([u9, c1], axis=3)\n",
    "c9 = Conv2D(16, (3, 3), activation='elu', kernel_initializer='he_normal', padding='same') (u9)\n",
    "c9 = Dropout(0.1) (c9)\n",
    "c9 = Conv2D(16, (3, 3), activation='elu', kernel_initializer='he_normal', padding='same') (c9)\n",
    "\n",
    "outputs = Conv2D(1, (1, 1), activation='sigmoid') (c9)\n"
   ]
  },
  {
   "cell_type": "markdown",
   "metadata": {},
   "source": [
    "Compile model"
   ]
  },
  {
   "cell_type": "code",
   "execution_count": 8,
   "metadata": {},
   "outputs": [
    {
     "name": "stdout",
     "output_type": "stream",
     "text": [
      "__________________________________________________________________________________________________\n",
      "Layer (type)                    Output Shape         Param #     Connected to                     \n",
      "==================================================================================================\n",
      "input_1 (InputLayer)            (None, 256, 256, 3)  0                                            \n",
      "__________________________________________________________________________________________________\n",
      "lambda_1 (Lambda)               (None, 256, 256, 3)  0           input_1[0][0]                    \n",
      "__________________________________________________________________________________________________\n",
      "conv2d_1 (Conv2D)               (None, 256, 256, 16) 448         lambda_1[0][0]                   \n",
      "__________________________________________________________________________________________________\n",
      "dropout_1 (Dropout)             (None, 256, 256, 16) 0           conv2d_1[0][0]                   \n",
      "__________________________________________________________________________________________________\n",
      "conv2d_2 (Conv2D)               (None, 256, 256, 16) 2320        dropout_1[0][0]                  \n",
      "__________________________________________________________________________________________________\n",
      "max_pooling2d_1 (MaxPooling2D)  (None, 128, 128, 16) 0           conv2d_2[0][0]                   \n",
      "__________________________________________________________________________________________________\n",
      "conv2d_3 (Conv2D)               (None, 128, 128, 32) 4640        max_pooling2d_1[0][0]            \n",
      "__________________________________________________________________________________________________\n",
      "dropout_2 (Dropout)             (None, 128, 128, 32) 0           conv2d_3[0][0]                   \n",
      "__________________________________________________________________________________________________\n",
      "conv2d_4 (Conv2D)               (None, 128, 128, 32) 9248        dropout_2[0][0]                  \n",
      "__________________________________________________________________________________________________\n",
      "max_pooling2d_2 (MaxPooling2D)  (None, 64, 64, 32)   0           conv2d_4[0][0]                   \n",
      "__________________________________________________________________________________________________\n",
      "conv2d_5 (Conv2D)               (None, 64, 64, 64)   18496       max_pooling2d_2[0][0]            \n",
      "__________________________________________________________________________________________________\n",
      "dropout_3 (Dropout)             (None, 64, 64, 64)   0           conv2d_5[0][0]                   \n",
      "__________________________________________________________________________________________________\n",
      "conv2d_6 (Conv2D)               (None, 64, 64, 64)   36928       dropout_3[0][0]                  \n",
      "__________________________________________________________________________________________________\n",
      "max_pooling2d_3 (MaxPooling2D)  (None, 32, 32, 64)   0           conv2d_6[0][0]                   \n",
      "__________________________________________________________________________________________________\n",
      "conv2d_7 (Conv2D)               (None, 32, 32, 128)  73856       max_pooling2d_3[0][0]            \n",
      "__________________________________________________________________________________________________\n",
      "dropout_4 (Dropout)             (None, 32, 32, 128)  0           conv2d_7[0][0]                   \n",
      "__________________________________________________________________________________________________\n",
      "conv2d_8 (Conv2D)               (None, 32, 32, 128)  147584      dropout_4[0][0]                  \n",
      "__________________________________________________________________________________________________\n",
      "max_pooling2d_4 (MaxPooling2D)  (None, 16, 16, 128)  0           conv2d_8[0][0]                   \n",
      "__________________________________________________________________________________________________\n",
      "conv2d_9 (Conv2D)               (None, 16, 16, 256)  295168      max_pooling2d_4[0][0]            \n",
      "__________________________________________________________________________________________________\n",
      "dropout_5 (Dropout)             (None, 16, 16, 256)  0           conv2d_9[0][0]                   \n",
      "__________________________________________________________________________________________________\n",
      "conv2d_10 (Conv2D)              (None, 16, 16, 256)  590080      dropout_5[0][0]                  \n",
      "__________________________________________________________________________________________________\n",
      "conv2d_transpose_1 (Conv2DTrans (None, 32, 32, 128)  131200      conv2d_10[0][0]                  \n",
      "__________________________________________________________________________________________________\n",
      "concatenate_1 (Concatenate)     (None, 32, 32, 256)  0           conv2d_transpose_1[0][0]         \n",
      "                                                                 conv2d_8[0][0]                   \n",
      "__________________________________________________________________________________________________\n",
      "conv2d_11 (Conv2D)              (None, 32, 32, 128)  295040      concatenate_1[0][0]              \n",
      "__________________________________________________________________________________________________\n",
      "dropout_6 (Dropout)             (None, 32, 32, 128)  0           conv2d_11[0][0]                  \n",
      "__________________________________________________________________________________________________\n",
      "conv2d_12 (Conv2D)              (None, 32, 32, 128)  147584      dropout_6[0][0]                  \n",
      "__________________________________________________________________________________________________\n",
      "conv2d_transpose_2 (Conv2DTrans (None, 64, 64, 64)   32832       conv2d_12[0][0]                  \n",
      "__________________________________________________________________________________________________\n",
      "concatenate_2 (Concatenate)     (None, 64, 64, 128)  0           conv2d_transpose_2[0][0]         \n",
      "                                                                 conv2d_6[0][0]                   \n",
      "__________________________________________________________________________________________________\n",
      "conv2d_13 (Conv2D)              (None, 64, 64, 64)   73792       concatenate_2[0][0]              \n",
      "__________________________________________________________________________________________________\n",
      "dropout_7 (Dropout)             (None, 64, 64, 64)   0           conv2d_13[0][0]                  \n",
      "__________________________________________________________________________________________________\n",
      "conv2d_14 (Conv2D)              (None, 64, 64, 64)   36928       dropout_7[0][0]                  \n",
      "__________________________________________________________________________________________________\n",
      "conv2d_transpose_3 (Conv2DTrans (None, 128, 128, 32) 8224        conv2d_14[0][0]                  \n",
      "__________________________________________________________________________________________________\n",
      "concatenate_3 (Concatenate)     (None, 128, 128, 64) 0           conv2d_transpose_3[0][0]         \n",
      "                                                                 conv2d_4[0][0]                   \n",
      "__________________________________________________________________________________________________\n",
      "conv2d_15 (Conv2D)              (None, 128, 128, 32) 18464       concatenate_3[0][0]              \n",
      "__________________________________________________________________________________________________\n",
      "dropout_8 (Dropout)             (None, 128, 128, 32) 0           conv2d_15[0][0]                  \n",
      "__________________________________________________________________________________________________\n",
      "conv2d_16 (Conv2D)              (None, 128, 128, 32) 9248        dropout_8[0][0]                  \n",
      "__________________________________________________________________________________________________\n",
      "conv2d_transpose_4 (Conv2DTrans (None, 256, 256, 16) 2064        conv2d_16[0][0]                  \n",
      "__________________________________________________________________________________________________\n",
      "concatenate_4 (Concatenate)     (None, 256, 256, 32) 0           conv2d_transpose_4[0][0]         \n",
      "                                                                 conv2d_2[0][0]                   \n",
      "__________________________________________________________________________________________________\n",
      "conv2d_17 (Conv2D)              (None, 256, 256, 16) 4624        concatenate_4[0][0]              \n",
      "__________________________________________________________________________________________________\n",
      "dropout_9 (Dropout)             (None, 256, 256, 16) 0           conv2d_17[0][0]                  \n",
      "__________________________________________________________________________________________________\n",
      "conv2d_18 (Conv2D)              (None, 256, 256, 16) 2320        dropout_9[0][0]                  \n",
      "__________________________________________________________________________________________________\n",
      "conv2d_19 (Conv2D)              (None, 256, 256, 1)  17          conv2d_18[0][0]                  \n",
      "==================================================================================================\n",
      "Total params: 1,941,105\n",
      "Trainable params: 1,941,105\n",
      "Non-trainable params: 0\n",
      "__________________________________________________________________________________________________\n"
     ]
    }
   ],
   "source": [
    "model = Model(inputs=[inputs], outputs=[outputs])\n",
    "model.compile(optimizer='adam', loss='binary_crossentropy', metrics=[\"accuracy\"])\n",
    "model.summary()"
   ]
  },
  {
   "cell_type": "code",
   "execution_count": 9,
   "metadata": {},
   "outputs": [
    {
     "name": "stdout",
     "output_type": "stream",
     "text": [
      "Train on 91 samples, validate on 11 samples\n",
      "Epoch 1/25\n",
      " - 36s - loss: 0.3283 - acc: 0.8854 - val_loss: 0.1606 - val_acc: 0.9673\n",
      "\n",
      "Epoch 00001: val_loss improved from inf to 0.16056, saving model to model.h5\n",
      "Epoch 2/25\n",
      " - 34s - loss: 0.2480 - acc: 0.9463 - val_loss: 0.1647 - val_acc: 0.9673\n",
      "\n",
      "Epoch 00002: val_loss did not improve from 0.16056\n",
      "Epoch 3/25\n",
      " - 34s - loss: 0.2281 - acc: 0.9463 - val_loss: 0.1551 - val_acc: 0.9673\n",
      "\n",
      "Epoch 00003: val_loss improved from 0.16056 to 0.15509, saving model to model.h5\n",
      "Epoch 4/25\n",
      " - 34s - loss: 0.2219 - acc: 0.9463 - val_loss: 0.1463 - val_acc: 0.9673\n",
      "\n",
      "Epoch 00004: val_loss improved from 0.15509 to 0.14627, saving model to model.h5\n",
      "Epoch 5/25\n",
      " - 34s - loss: 0.2139 - acc: 0.9463 - val_loss: 0.1417 - val_acc: 0.9673\n",
      "\n",
      "Epoch 00005: val_loss improved from 0.14627 to 0.14166, saving model to model.h5\n",
      "Epoch 6/25\n",
      " - 34s - loss: 0.2219 - acc: 0.9462 - val_loss: 0.1424 - val_acc: 0.9673\n",
      "\n",
      "Epoch 00006: val_loss did not improve from 0.14166\n",
      "Epoch 7/25\n",
      " - 34s - loss: 0.2150 - acc: 0.9463 - val_loss: 0.1445 - val_acc: 0.9673\n",
      "\n",
      "Epoch 00007: val_loss did not improve from 0.14166\n",
      "Epoch 8/25\n",
      " - 34s - loss: 0.2091 - acc: 0.9463 - val_loss: 0.1410 - val_acc: 0.9673\n",
      "\n",
      "Epoch 00008: val_loss improved from 0.14166 to 0.14098, saving model to model.h5\n",
      "Epoch 9/25\n",
      " - 34s - loss: 0.2028 - acc: 0.9463 - val_loss: 0.1379 - val_acc: 0.9673\n",
      "\n",
      "Epoch 00009: val_loss improved from 0.14098 to 0.13793, saving model to model.h5\n",
      "Epoch 10/25\n",
      " - 34s - loss: 0.2053 - acc: 0.9463 - val_loss: 0.1409 - val_acc: 0.9673\n",
      "\n",
      "Epoch 00010: val_loss did not improve from 0.13793\n",
      "Epoch 11/25\n",
      " - 34s - loss: 0.2094 - acc: 0.9462 - val_loss: 0.1401 - val_acc: 0.9673\n",
      "\n",
      "Epoch 00011: val_loss did not improve from 0.13793\n",
      "Epoch 12/25\n",
      " - 34s - loss: 0.2006 - acc: 0.9463 - val_loss: 0.1376 - val_acc: 0.9673\n",
      "\n",
      "Epoch 00012: val_loss improved from 0.13793 to 0.13760, saving model to model.h5\n",
      "Epoch 13/25\n",
      " - 34s - loss: 0.1975 - acc: 0.9462 - val_loss: 0.1360 - val_acc: 0.9673\n",
      "\n",
      "Epoch 00013: val_loss improved from 0.13760 to 0.13602, saving model to model.h5\n",
      "Epoch 14/25\n",
      " - 34s - loss: 0.1967 - acc: 0.9462 - val_loss: 0.1377 - val_acc: 0.9673\n",
      "\n",
      "Epoch 00014: val_loss did not improve from 0.13602\n",
      "Epoch 15/25\n",
      " - 35s - loss: 0.1979 - acc: 0.9462 - val_loss: 0.1358 - val_acc: 0.9673\n",
      "\n",
      "Epoch 00015: val_loss improved from 0.13602 to 0.13578, saving model to model.h5\n",
      "Epoch 16/25\n",
      " - 35s - loss: 0.2003 - acc: 0.9462 - val_loss: 0.1347 - val_acc: 0.9673\n",
      "\n",
      "Epoch 00016: val_loss improved from 0.13578 to 0.13470, saving model to model.h5\n",
      "Epoch 17/25\n",
      " - 35s - loss: 0.1972 - acc: 0.9463 - val_loss: 0.1399 - val_acc: 0.9673\n",
      "\n",
      "Epoch 00017: val_loss did not improve from 0.13470\n",
      "Epoch 18/25\n",
      " - 34s - loss: 0.1960 - acc: 0.9462 - val_loss: 0.1342 - val_acc: 0.9673\n",
      "\n",
      "Epoch 00018: val_loss improved from 0.13470 to 0.13417, saving model to model.h5\n",
      "Epoch 19/25\n",
      " - 34s - loss: 0.1954 - acc: 0.9462 - val_loss: 0.1345 - val_acc: 0.9673\n",
      "\n",
      "Epoch 00019: val_loss did not improve from 0.13417\n",
      "Epoch 20/25\n",
      " - 35s - loss: 0.1953 - acc: 0.9461 - val_loss: 0.1419 - val_acc: 0.9673\n",
      "\n",
      "Epoch 00020: val_loss did not improve from 0.13417\n",
      "Epoch 21/25\n",
      " - 35s - loss: 0.2038 - acc: 0.9461 - val_loss: 0.1348 - val_acc: 0.9673\n",
      "\n",
      "Epoch 00021: val_loss did not improve from 0.13417\n",
      "Epoch 22/25\n",
      " - 35s - loss: 0.2003 - acc: 0.9463 - val_loss: 0.1563 - val_acc: 0.9673\n",
      "\n",
      "Epoch 00022: val_loss did not improve from 0.13417\n",
      "Epoch 23/25\n",
      " - 34s - loss: 0.1978 - acc: 0.9463 - val_loss: 0.1352 - val_acc: 0.9673\n",
      "\n",
      "Epoch 00023: val_loss did not improve from 0.13417\n",
      "Epoch 00023: early stopping\n"
     ]
    }
   ],
   "source": [
    "# Fit model\n",
    "earlystopper = EarlyStopping(patience=5, verbose=1)\n",
    "checkpointer = ModelCheckpoint('model.h5', verbose=1, save_best_only=True)\n",
    "\n",
    "results = model.fit(x_train, y_train, \n",
    "                    validation_split=0.1, \n",
    "                    batch_size=16, epochs=25, \n",
    "                    verbose=2,\n",
    "                    callbacks=[earlystopper, checkpointer])"
   ]
  },
  {
   "cell_type": "code",
   "execution_count": 100,
   "metadata": {},
   "outputs": [
    {
     "data": {
      "image/png": "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