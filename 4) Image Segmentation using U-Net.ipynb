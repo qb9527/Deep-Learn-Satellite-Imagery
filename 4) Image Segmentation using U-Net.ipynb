{
 "cells": [
  {
   "cell_type": "markdown",
   "metadata": {},
   "source": [
    "#### Import modules"
   ]
  },
  {
   "cell_type": "code",
   "execution_count": 1,
   "metadata": {},
   "outputs": [
    {
     "name": "stderr",
     "output_type": "stream",
     "text": [
      "Using TensorFlow backend.\n"
     ]
    }
   ],
   "source": [
    "import os\n",
    "import sys\n",
    "import random\n",
    "import warnings\n",
    "\n",
    "import numpy as np\n",
    "import pandas as pd\n",
    "\n",
    "import matplotlib.pyplot as plt\n",
    "\n",
    "from tqdm import tqdm\n",
    "from itertools import chain\n",
    "from skimage.io import imread, imshow\n",
    "\n",
    "from keras.models import Model, load_model\n",
    "from keras.layers import Input\n",
    "from keras.layers.core import Dropout, Lambda\n",
    "from keras.layers.convolutional import Conv2D, Conv2DTranspose\n",
    "from keras.layers.pooling import MaxPooling2D\n",
    "from keras.layers.merge import concatenate\n",
    "from keras.callbacks import EarlyStopping, ModelCheckpoint\n",
    "from keras import backend as K\n",
    "import tensorflow as tf"
   ]
  },
  {
   "cell_type": "markdown",
   "metadata": {},
   "source": [
    "##### Set some parameters"
   ]
  },
  {
   "cell_type": "code",
   "execution_count": 2,
   "metadata": {},
   "outputs": [],
   "source": [
    "data = np.load('./segmentation_dir/data.npz')"
   ]
  },
  {
   "cell_type": "code",
   "execution_count": 3,
   "metadata": {},
   "outputs": [],
   "source": [
    "x_train= data['x_train']\n",
    "y_train = data['y_train']\n",
    "x_test = data['x_test']\n",
    "y_test = data['y_test']\n"
   ]
  },
  {
   "cell_type": "code",
   "execution_count": 4,
   "metadata": {},
   "outputs": [
    {
     "data": {
      "text/plain": [
       "((102, 256, 256, 3), (102, 256, 256, 1))"
      ]
     },
     "execution_count": 4,
     "metadata": {},
     "output_type": "execute_result"
    }
   ],
   "source": [
    "x_train.shape, y_train.shape"
   ]
  },
  {
   "cell_type": "code",
   "execution_count": 5,
   "metadata": {},
   "outputs": [],
   "source": [
    "img_width = x_train.shape[1]\n",
    "img_height =x_train.shape[2]\n",
    "img_bands = x_train.shape[3]"
   ]
  },
  {
   "cell_type": "markdown",
   "metadata": {},
   "source": [
    "#### Normalization"
   ]
  },
  {
   "cell_type": "code",
   "execution_count": 6,
   "metadata": {},
   "outputs": [],
   "source": [
    "inputs = Input((img_width, img_height, img_bands))\n",
    "s = Lambda(lambda x: x / 255) (inputs)"
   ]
  },
  {
   "cell_type": "markdown",
   "metadata": {},
   "source": [
    "#### Build U-Net model"
   ]
  },
  {
   "cell_type": "code",
   "execution_count": 7,
   "metadata": {},
   "outputs": [],
   "source": [
    "\n",
    "\n",
    "c1 = Conv2D(16, (3, 3), activation='elu', kernel_initializer='he_normal', padding='same') (s)\n",
    "c1 = Dropout(0.1) (c1)\n",
    "c1 = Conv2D(16, (3, 3), activation='elu', kernel_initializer='he_normal', padding='same') (c1)\n",
    "p1 = MaxPooling2D((2, 2)) (c1)\n",
    "\n",
    "c2 = Conv2D(32, (3, 3), activation='elu', kernel_initializer='he_normal', padding='same') (p1)\n",
    "c2 = Dropout(0.1) (c2)\n",
    "c2 = Conv2D(32, (3, 3), activation='elu', kernel_initializer='he_normal', padding='same') (c2)\n",
    "p2 = MaxPooling2D((2, 2)) (c2)\n",
    "\n",
    "c3 = Conv2D(64, (3, 3), activation='elu', kernel_initializer='he_normal', padding='same') (p2)\n",
    "c3 = Dropout(0.2) (c3)\n",
    "c3 = Conv2D(64, (3, 3), activation='elu', kernel_initializer='he_normal', padding='same') (c3)\n",
    "p3 = MaxPooling2D((2, 2)) (c3)\n",
    "\n",
    "c4 = Conv2D(128, (3, 3), activation='elu', kernel_initializer='he_normal', padding='same') (p3)\n",
    "c4 = Dropout(0.2) (c4)\n",
    "c4 = Conv2D(128, (3, 3), activation='elu', kernel_initializer='he_normal', padding='same') (c4)\n",
    "p4 = MaxPooling2D(pool_size=(2, 2)) (c4)\n",
    "\n",
    "c5 = Conv2D(256, (3, 3), activation='elu', kernel_initializer='he_normal', padding='same') (p4)\n",
    "c5 = Dropout(0.3) (c5)\n",
    "c5 = Conv2D(256, (3, 3), activation='elu', kernel_initializer='he_normal', padding='same') (c5)\n",
    "\n",
    "u6 = Conv2DTranspose(128, (2, 2), strides=(2, 2), padding='same') (c5)\n",
    "u6 = concatenate([u6, c4])\n",
    "c6 = Conv2D(128, (3, 3), activation='elu', kernel_initializer='he_normal', padding='same') (u6)\n",
    "c6 = Dropout(0.2) (c6)\n",
    "c6 = Conv2D(128, (3, 3), activation='elu', kernel_initializer='he_normal', padding='same') (c6)\n",
    "\n",
    "u7 = Conv2DTranspose(64, (2, 2), strides=(2, 2), padding='same') (c6)\n",
    "u7 = concatenate([u7, c3])\n",
    "c7 = Conv2D(64, (3, 3), activation='elu', kernel_initializer='he_normal', padding='same') (u7)\n",
    "c7 = Dropout(0.2) (c7)\n",
    "c7 = Conv2D(64, (3, 3), activation='elu', kernel_initializer='he_normal', padding='same') (c7)\n",
    "\n",
    "u8 = Conv2DTranspose(32, (2, 2), strides=(2, 2), padding='same') (c7)\n",
    "u8 = concatenate([u8, c2])\n",
    "c8 = Conv2D(32, (3, 3), activation='elu', kernel_initializer='he_normal', padding='same') (u8)\n",
    "c8 = Dropout(0.1) (c8)\n",
    "c8 = Conv2D(32, (3, 3), activation='elu', kernel_initializer='he_normal', padding='same') (c8)\n",
    "\n",
    "u9 = Conv2DTranspose(16, (2, 2), strides=(2, 2), padding='same') (c8)\n",
    "u9 = concatenate([u9, c1], axis=3)\n",
    "c9 = Conv2D(16, (3, 3), activation='elu', kernel_initializer='he_normal', padding='same') (u9)\n",
    "c9 = Dropout(0.1) (c9)\n",
    "c9 = Conv2D(16, (3, 3), activation='elu', kernel_initializer='he_normal', padding='same') (c9)\n",
    "\n",
    "outputs = Conv2D(1, (1, 1), activation='sigmoid') (c9)\n"
   ]
  },
  {
   "cell_type": "markdown",
   "metadata": {},
   "source": [
    "Compile model"
   ]
  },
  {
   "cell_type": "code",
   "execution_count": 8,
   "metadata": {},
   "outputs": [
    {
     "name": "stdout",
     "output_type": "stream",
     "text": [
      "__________________________________________________________________________________________________\n",
      "Layer (type)                    Output Shape         Param #     Connected to                     \n",
      "==================================================================================================\n",
      "input_1 (InputLayer)            (None, 256, 256, 3)  0                                            \n",
      "__________________________________________________________________________________________________\n",
      "lambda_1 (Lambda)               (None, 256, 256, 3)  0           input_1[0][0]                    \n",
      "__________________________________________________________________________________________________\n",
      "conv2d_1 (Conv2D)               (None, 256, 256, 16) 448         lambda_1[0][0]                   \n",
      "__________________________________________________________________________________________________\n",
      "dropout_1 (Dropout)             (None, 256, 256, 16) 0           conv2d_1[0][0]                   \n",
      "__________________________________________________________________________________________________\n",
      "conv2d_2 (Conv2D)               (None, 256, 256, 16) 2320        dropout_1[0][0]                  \n",
      "__________________________________________________________________________________________________\n",
      "max_pooling2d_1 (MaxPooling2D)  (None, 128, 128, 16) 0           conv2d_2[0][0]                   \n",
      "__________________________________________________________________________________________________\n",
      "conv2d_3 (Conv2D)               (None, 128, 128, 32) 4640        max_pooling2d_1[0][0]            \n",
      "__________________________________________________________________________________________________\n",
      "dropout_2 (Dropout)             (None, 128, 128, 32) 0           conv2d_3[0][0]                   \n",
      "__________________________________________________________________________________________________\n",
      "conv2d_4 (Conv2D)               (None, 128, 128, 32) 9248        dropout_2[0][0]                  \n",
      "__________________________________________________________________________________________________\n",
      "max_pooling2d_2 (MaxPooling2D)  (None, 64, 64, 32)   0           conv2d_4[0][0]                   \n",
      "__________________________________________________________________________________________________\n",
      "conv2d_5 (Conv2D)               (None, 64, 64, 64)   18496       max_pooling2d_2[0][0]            \n",
      "__________________________________________________________________________________________________\n",
      "dropout_3 (Dropout)             (None, 64, 64, 64)   0           conv2d_5[0][0]                   \n",
      "__________________________________________________________________________________________________\n",
      "conv2d_6 (Conv2D)               (None, 64, 64, 64)   36928       dropout_3[0][0]                  \n",
      "__________________________________________________________________________________________________\n",
      "max_pooling2d_3 (MaxPooling2D)  (None, 32, 32, 64)   0           conv2d_6[0][0]                   \n",
      "__________________________________________________________________________________________________\n",
      "conv2d_7 (Conv2D)               (None, 32, 32, 128)  73856       max_pooling2d_3[0][0]            \n",
      "__________________________________________________________________________________________________\n",
      "dropout_4 (Dropout)             (None, 32, 32, 128)  0           conv2d_7[0][0]                   \n",
      "__________________________________________________________________________________________________\n",
      "conv2d_8 (Conv2D)               (None, 32, 32, 128)  147584      dropout_4[0][0]                  \n",
      "__________________________________________________________________________________________________\n",
      "max_pooling2d_4 (MaxPooling2D)  (None, 16, 16, 128)  0           conv2d_8[0][0]                   \n",
      "__________________________________________________________________________________________________\n",
      "conv2d_9 (Conv2D)               (None, 16, 16, 256)  295168      max_pooling2d_4[0][0]            \n",
      "__________________________________________________________________________________________________\n",
      "dropout_5 (Dropout)             (None, 16, 16, 256)  0           conv2d_9[0][0]                   \n",
      "__________________________________________________________________________________________________\n",
      "conv2d_10 (Conv2D)              (None, 16, 16, 256)  590080      dropout_5[0][0]                  \n",
      "__________________________________________________________________________________________________\n",
      "conv2d_transpose_1 (Conv2DTrans (None, 32, 32, 128)  131200      conv2d_10[0][0]                  \n",
      "__________________________________________________________________________________________________\n",
      "concatenate_1 (Concatenate)     (None, 32, 32, 256)  0           conv2d_transpose_1[0][0]         \n",
      "                                                                 conv2d_8[0][0]                   \n",
      "__________________________________________________________________________________________________\n",
      "conv2d_11 (Conv2D)              (None, 32, 32, 128)  295040      concatenate_1[0][0]              \n",
      "__________________________________________________________________________________________________\n",
      "dropout_6 (Dropout)             (None, 32, 32, 128)  0           conv2d_11[0][0]                  \n",
      "__________________________________________________________________________________________________\n",
      "conv2d_12 (Conv2D)              (None, 32, 32, 128)  147584      dropout_6[0][0]                  \n",
      "__________________________________________________________________________________________________\n",
      "conv2d_transpose_2 (Conv2DTrans (None, 64, 64, 64)   32832       conv2d_12[0][0]                  \n",
      "__________________________________________________________________________________________________\n",
      "concatenate_2 (Concatenate)     (None, 64, 64, 128)  0           conv2d_transpose_2[0][0]         \n",
      "                                                                 conv2d_6[0][0]                   \n",
      "__________________________________________________________________________________________________\n",
      "conv2d_13 (Conv2D)              (None, 64, 64, 64)   73792       concatenate_2[0][0]              \n",
      "__________________________________________________________________________________________________\n",
      "dropout_7 (Dropout)             (None, 64, 64, 64)   0           conv2d_13[0][0]                  \n",
      "__________________________________________________________________________________________________\n",
      "conv2d_14 (Conv2D)              (None, 64, 64, 64)   36928       dropout_7[0][0]                  \n",
      "__________________________________________________________________________________________________\n",
      "conv2d_transpose_3 (Conv2DTrans (None, 128, 128, 32) 8224        conv2d_14[0][0]                  \n",
      "__________________________________________________________________________________________________\n",
      "concatenate_3 (Concatenate)     (None, 128, 128, 64) 0           conv2d_transpose_3[0][0]         \n",
      "                                                                 conv2d_4[0][0]                   \n",
      "__________________________________________________________________________________________________\n",
      "conv2d_15 (Conv2D)              (None, 128, 128, 32) 18464       concatenate_3[0][0]              \n",
      "__________________________________________________________________________________________________\n",
      "dropout_8 (Dropout)             (None, 128, 128, 32) 0           conv2d_15[0][0]                  \n",
      "__________________________________________________________________________________________________\n",
      "conv2d_16 (Conv2D)              (None, 128, 128, 32) 9248        dropout_8[0][0]                  \n",
      "__________________________________________________________________________________________________\n",
      "conv2d_transpose_4 (Conv2DTrans (None, 256, 256, 16) 2064        conv2d_16[0][0]                  \n",
      "__________________________________________________________________________________________________\n",
      "concatenate_4 (Concatenate)     (None, 256, 256, 32) 0           conv2d_transpose_4[0][0]         \n",
      "                                                                 conv2d_2[0][0]                   \n",
      "__________________________________________________________________________________________________\n",
      "conv2d_17 (Conv2D)              (None, 256, 256, 16) 4624        concatenate_4[0][0]              \n",
      "__________________________________________________________________________________________________\n",
      "dropout_9 (Dropout)             (None, 256, 256, 16) 0           conv2d_17[0][0]                  \n",
      "__________________________________________________________________________________________________\n",
      "conv2d_18 (Conv2D)              (None, 256, 256, 16) 2320        dropout_9[0][0]                  \n",
      "__________________________________________________________________________________________________\n",
      "conv2d_19 (Conv2D)              (None, 256, 256, 1)  17          conv2d_18[0][0]                  \n",
      "==================================================================================================\n",
      "Total params: 1,941,105\n",
      "Trainable params: 1,941,105\n",
      "Non-trainable params: 0\n",
      "__________________________________________________________________________________________________\n"
     ]
    }
   ],
   "source": [
    "model = Model(inputs=[inputs], outputs=[outputs])\n",
    "model.compile(optimizer='adam', loss='binary_crossentropy', metrics=[\"accuracy\"])\n",
    "model.summary()"
   ]
  },
  {
   "cell_type": "code",
   "execution_count": 9,
   "metadata": {},
   "outputs": [
    {
     "name": "stdout",
     "output_type": "stream",
     "text": [
      "Train on 91 samples, validate on 11 samples\n",
      "Epoch 1/25\n",
      " - 36s - loss: 0.3283 - acc: 0.8854 - val_loss: 0.1606 - val_acc: 0.9673\n",
      "\n",
      "Epoch 00001: val_loss improved from inf to 0.16056, saving model to model.h5\n",
      "Epoch 2/25\n",
      " - 34s - loss: 0.2480 - acc: 0.9463 - val_loss: 0.1647 - val_acc: 0.9673\n",
      "\n",
      "Epoch 00002: val_loss did not improve from 0.16056\n",
      "Epoch 3/25\n",
      " - 34s - loss: 0.2281 - acc: 0.9463 - val_loss: 0.1551 - val_acc: 0.9673\n",
      "\n",
      "Epoch 00003: val_loss improved from 0.16056 to 0.15509, saving model to model.h5\n",
      "Epoch 4/25\n",
      " - 34s - loss: 0.2219 - acc: 0.9463 - val_loss: 0.1463 - val_acc: 0.9673\n",
      "\n",
      "Epoch 00004: val_loss improved from 0.15509 to 0.14627, saving model to model.h5\n",
      "Epoch 5/25\n",
      " - 34s - loss: 0.2139 - acc: 0.9463 - val_loss: 0.1417 - val_acc: 0.9673\n",
      "\n",
      "Epoch 00005: val_loss improved from 0.14627 to 0.14166, saving model to model.h5\n",
      "Epoch 6/25\n",
      " - 34s - loss: 0.2219 - acc: 0.9462 - val_loss: 0.1424 - val_acc: 0.9673\n",
      "\n",
      "Epoch 00006: val_loss did not improve from 0.14166\n",
      "Epoch 7/25\n",
      " - 34s - loss: 0.2150 - acc: 0.9463 - val_loss: 0.1445 - val_acc: 0.9673\n",
      "\n",
      "Epoch 00007: val_loss did not improve from 0.14166\n",
      "Epoch 8/25\n",
      " - 34s - loss: 0.2091 - acc: 0.9463 - val_loss: 0.1410 - val_acc: 0.9673\n",
      "\n",
      "Epoch 00008: val_loss improved from 0.14166 to 0.14098, saving model to model.h5\n",
      "Epoch 9/25\n",
      " - 34s - loss: 0.2028 - acc: 0.9463 - val_loss: 0.1379 - val_acc: 0.9673\n",
      "\n",
      "Epoch 00009: val_loss improved from 0.14098 to 0.13793, saving model to model.h5\n",
      "Epoch 10/25\n",
      " - 34s - loss: 0.2053 - acc: 0.9463 - val_loss: 0.1409 - val_acc: 0.9673\n",
      "\n",
      "Epoch 00010: val_loss did not improve from 0.13793\n",
      "Epoch 11/25\n",
      " - 34s - loss: 0.2094 - acc: 0.9462 - val_loss: 0.1401 - val_acc: 0.9673\n",
      "\n",
      "Epoch 00011: val_loss did not improve from 0.13793\n",
      "Epoch 12/25\n",
      " - 34s - loss: 0.2006 - acc: 0.9463 - val_loss: 0.1376 - val_acc: 0.9673\n",
      "\n",
      "Epoch 00012: val_loss improved from 0.13793 to 0.13760, saving model to model.h5\n",
      "Epoch 13/25\n",
      " - 34s - loss: 0.1975 - acc: 0.9462 - val_loss: 0.1360 - val_acc: 0.9673\n",
      "\n",
      "Epoch 00013: val_loss improved from 0.13760 to 0.13602, saving model to model.h5\n",
      "Epoch 14/25\n",
      " - 34s - loss: 0.1967 - acc: 0.9462 - val_loss: 0.1377 - val_acc: 0.9673\n",
      "\n",
      "Epoch 00014: val_loss did not improve from 0.13602\n",
      "Epoch 15/25\n",
      " - 35s - loss: 0.1979 - acc: 0.9462 - val_loss: 0.1358 - val_acc: 0.9673\n",
      "\n",
      "Epoch 00015: val_loss improved from 0.13602 to 0.13578, saving model to model.h5\n",
      "Epoch 16/25\n",
      " - 35s - loss: 0.2003 - acc: 0.9462 - val_loss: 0.1347 - val_acc: 0.9673\n",
      "\n",
      "Epoch 00016: val_loss improved from 0.13578 to 0.13470, saving model to model.h5\n",
      "Epoch 17/25\n",
      " - 35s - loss: 0.1972 - acc: 0.9463 - val_loss: 0.1399 - val_acc: 0.9673\n",
      "\n",
      "Epoch 00017: val_loss did not improve from 0.13470\n",
      "Epoch 18/25\n",
      " - 34s - loss: 0.1960 - acc: 0.9462 - val_loss: 0.1342 - val_acc: 0.9673\n",
      "\n",
      "Epoch 00018: val_loss improved from 0.13470 to 0.13417, saving model to model.h5\n",
      "Epoch 19/25\n",
      " - 34s - loss: 0.1954 - acc: 0.9462 - val_loss: 0.1345 - val_acc: 0.9673\n",
      "\n",
      "Epoch 00019: val_loss did not improve from 0.13417\n",
      "Epoch 20/25\n",
      " - 35s - loss: 0.1953 - acc: 0.9461 - val_loss: 0.1419 - val_acc: 0.9673\n",
      "\n",
      "Epoch 00020: val_loss did not improve from 0.13417\n",
      "Epoch 21/25\n",
      " - 35s - loss: 0.2038 - acc: 0.9461 - val_loss: 0.1348 - val_acc: 0.9673\n",
      "\n",
      "Epoch 00021: val_loss did not improve from 0.13417\n",
      "Epoch 22/25\n",
      " - 35s - loss: 0.2003 - acc: 0.9463 - val_loss: 0.1563 - val_acc: 0.9673\n",
      "\n",
      "Epoch 00022: val_loss did not improve from 0.13417\n",
      "Epoch 23/25\n",
      " - 34s - loss: 0.1978 - acc: 0.9463 - val_loss: 0.1352 - val_acc: 0.9673\n",
      "\n",
      "Epoch 00023: val_loss did not improve from 0.13417\n",
      "Epoch 00023: early stopping\n"
     ]
    }
   ],
   "source": [
    "# Fit model\n",
    "earlystopper = EarlyStopping(patience=5, verbose=1)\n",
    "checkpointer = ModelCheckpoint('model.h5', verbose=1, save_best_only=True)\n",
    "\n",
    "results = model.fit(x_train, y_train, \n",
    "                    validation_split=0.1, \n",
    "                    batch_size=16, epochs=25, \n",
    "                    verbose=2,\n",
    "                    callbacks=[earlystopper, checkpointer])"
   ]
  },
  {
   "cell_type": "code",
   "execution_count": 100,
   "metadata": {},
   "outputs": [
    {
     "data": {
      "image/png": "iVBORw0KGgoAAAANSUhEUgAAA3oAAAEyCAYAAACsx6JQAAAABHNCSVQICAgIfAhkiAAAAAlwSFlzAAALEgAACxIB0t1+/AAAADl0RVh0U29mdHdhcmUAbWF0cGxvdGxpYiB2ZXJzaW9uIDIuMi4yLCBodHRwOi8vbWF0cGxvdGxpYi5vcmcvhp/UCwAAIABJREFUeJzs3Xl4lNX5xvHvQ9hUQFYtikpYDGsaMKAWCmJdoFZcalUqRcVK0VoXilVr3RCrRatoXamKVq0UUSu/AqJVFKxLAUUUEEEWjWATkUVkD8/vjzMDQ5gkE7LMTHJ/ruu9ZuZdn0nQyT3nvOeYuyMiIiIiIiLVR61kFyAiIiIiIiIVS0FPRERERESkmlHQExERERERqWYU9ERERERERKoZBT0REREREZFqRkFPRERERESkmlHQExERERERqWYU9ERERERERKoZBT0REREREZFqpnayCyiL5s2be+vWrZNdhoiIVLK5c+d+7e4tkl1HutDno4hIzZHoZ2RaBb3WrVszZ86cZJchIiKVzMxWJruGdKLPRxGRmiPRz0h13RQREREREalmFPRERERERESqGQU9ERERERGRaiat7tETESnN9u3bycvLY8uWLckuRRJQv359WrVqRZ06dZJdioiISLWioCci1UpeXh4NGzakdevWmFmyy5ESuDtr1qwhLy+PzMzMZJcjIiJSrajrpohUK1u2bKFZs2YKeWnAzGjWrJlaX0VERCqBgp6IVDsKeelDvysREZHKoaAnIiIiIiJSzSjoiYhUoDVr1pCTk0NOTg7f+973OPTQQ3e93rZtW0LnuPDCC1m8eHHC13z00Ue58sor97VkERERqYZq1GAsM2dCXh78/OfJrkREqqtmzZoxb948AG6++WYaNGjAyJEj99jH3XF3atWK/13b+PHjK71OkT1s3gxPP53sKkSSw2z3UvR1SesB3Pdc4q2Lt17i/5zNoFat4rdFl6I/35074//ci/tdJFP//nDYYVVyqRoV9MaPh+nTFfREpOotXbqU008/nd69e/Pee+/xr3/9i1tuuYX333+fzZs3c84553DjjTcC0Lt3b+6//366dOlC8+bNGT58ONOmTWP//ffnpZde4qCDDir2OsuXL2fo0KGsWbOGgw8+mPHjx9OqVSsmTJjA6NGjycjIoGnTpsyYMYOPPvqIoUOHsn37dnbu3Mk///lP2rRpU1U/Ekkl334Lw4YluwoRkepv2rTUCnpm1h+4F8gAHnX3O4psHw78GigENgLD3H2hmZ0I3AHUBbYBV7v765Fj3gBaApsjpznJ3fPL/Y5KkJUFTzwBGzZAo0aVeSURSQVXXgmRxrUKk5MDY8fu27ELFy5k/PjxPPzwwwDccccdNG3alB07dtCvXz/OOussOnXqtMcx69evp2/fvtxxxx2MGDGCxx9/nGuvvbbYa1x66aX88pe/5LzzzmPcuHFceeWVTJo0iVtuuYU33niDgw8+mHXr1gHw4IMPMnLkSM455xy2bt2Kp8I3nZIczZqFLi8iNc2+tMbFrku09S/e+pqstFa30lroytoCGO93kSzNmlXZpUoNemaWATwAnAjkAbPNbLK7L4zZ7e/u/nBk/4HA3UB/4GvgVHdfZWZdgOnAoTHHnefucyrmrZQuKys8Ll4MPXpU1VVFRIK2bdvSI+Z/Ps8++yyPPfYYO3bsYNWqVSxcuHCvoLfffvsxYMAAAI466ihmzZpV4jWirYUAQ4YM4YYbbgCgV69eDBkyhJ/97GeceeaZAPzgBz9g9OjRrFy5kjPPPJN27dpV2HuVNJORAYceWvp+IiKSNhJp0esJLHX3ZQBmNgE4DdgV9Nx9Q8z+BwAeWf9BzPoFQH0zq+fuW8tb+L7o0CE8KuiJ1Az72vJWWQ444IBdz5csWcK9997Lf//7Xxo3bszgwYPjzidXt27dXc8zMjLYsWPHPl37r3/9664Q+P3vf5/58+fzi1/8gmOPPZYpU6Zw4okn8uSTT9KnT599Or+IiIiklkRG3TwU+CLmdR57tsoBYGa/NrPPgDHA5XHO81PggyIhb7yZzTOzG6wKJlNq2zZ8afnJJ5V9JRGRkm3YsIGGDRvSqFEjVq9ezfTp0yvkvMcccwwTJ04E4Omnn94V3JYtW8YxxxzDrbfeSpMmTfjyyy9ZtmwZ7dq144orruCUU05h/vz5FVKDiIiIJF8iLXrxAtheN3K4+wPAA2b2c+APwPm7TmDWGfgTcFLMIee5+5dm1hB4HvgF8Le9Lm42DBgGcPjhhydQbvHq1oU2bUKLnohIMnXv3p1OnTrRpUsX2rRpQ69evSrkvPfffz8XXXQRt99++67BWACuuuoqli9fjrtz0kkn0aVLF0aPHs2zzz5LnTp1OOSQQxg9enSF1CAiIiLJZ6XdfG9mxwI3u/vJkdfXAbj77cXsXwtY6+4HRl63Al4HLnT3/xRzzAVArrtfVlItubm5PmdO+W7pO/VUWLECPvqoXKcRkRS1aNEiOnbsmOwypAzi/c7MbK675yappLRTEZ+PIiKSHhL9jEyk6+ZsoL2ZZZpZXeBcYHKRi7WPeXkKsCSyvjEwBbguNuSZWW0zax55Xgf4CfBxArWUW1YWLFkChYVVcTUREREREZGqV2rQc/cdwGWEETMXARPdfYGZjYqMsAlwmZktMLN5wAh2d9u8DGgH3BC5F2+emR0E1AOmm9l8YB7wJfDXCn1nxejQAbZuhc8/r4qriYiIiIiIVL2E5tFz96nA1CLrbox5fkUxx40Girvp46gEa6xQ0SkWPvkEMjOTUYGIiIiIiEjlSqTrZrUSO8WCiIiIiIhIdVTjgl7z5tCkiaZYEBERERGR6qvGBT2z0H1TLXoiIiIiIlJd1bigB6H7poKeiFSG4447bq/Jz8eOHcull15a4nENGjQAYNWqVZx11lnFnru0IfTHjh3Lpk2bdr3+8Y9/zLp16xIpvUQ333wzd911V7nPIyIiIlWjRga9rCxYvRo2bEh2JSJS3QwaNIgJEybssW7ChAkMGjQooeMPOeQQJk2atM/XLxr0pk6dSuPGjff5fCIiIpKeamTQ04AsIlJZzjrrLP71r3+xdetWAFasWMGqVavo3bs3Gzdu5Ec/+hHdu3ena9euvPTSS3sdv2LFCrp06QLA5s2bOffcc8nOzuacc85h8+bNu/a75JJLyM3NpXPnztx0000A3HfffaxatYp+/frRr18/AFq3bs3XX38NwN13302XLl3o0qULY8eO3XW9jh07cvHFF9O5c2dOOumkPa4Tz7x58zjmmGPIzs7mjDPOYO3atbuu36lTJ7Kzszn33HMBePPNN8nJySEnJ4du3brx7bff7vPPVkRERBKX0PQK1U10ioXFi6FHj+TWIiKV6MorYd68ij1nTg5EQlI8zZo1o2fPnrz88sucdtppTJgwgXPOOQczo379+rz44os0atSIr7/+mmOOOYaBAwdiZnHP9dBDD7H//vszf/585s+fT/fu3Xdtu+2222jatCmFhYX86Ec/Yv78+Vx++eXcfffdzJgxg+bNm+9xrrlz5zJ+/Hjee+893J2jjz6avn370qRJE5YsWcKzzz7LX//6V84++2yef/55Bg8eXOx7HDJkCH/5y1/o27cvN954I7fccgtjx47ljjvuYPny5dSrV29Xd9G77rqLBx54gF69erFx40bq169flp+2iIiI7KMa2aLXti1kZGjkTRGpHLHdN2O7bbo7v//978nOzuaEE07gyy+/5H//+1+x55k5c+auwJWdnU12dvaubRMnTqR79+5069aNBQsWsHDhwhJreuuttzjjjDM44IADaNCgAWeeeSazZs0CIDMzk5ycHACOOuooVqxYUex51q9fz7p16+jbty8A559/PjNnztxV43nnncfTTz9N7drhe8RevXoxYsQI7rvvPtatW7drvYiIiFSuGvmJW7cutGmjrpsi1V4JLW+V6fTTT2fEiBG8//77bN68eVdL3DPPPENBQQFz586lTp06tG7dmi1btpR4rnitfcuXL+euu+5i9uzZNGnShAsuuKDU87h7sdvq1au363lGRkapXTeLM2XKFGbOnMnkyZO59dZbWbBgAddeey2nnHIKU6dO5ZhjjuHf//43HaL950VERKTS1MgWPQjdN9WiJyKVoUGDBhx33HEMHTp0j0FY1q9fz0EHHUSdOnWYMWMGK1euLPE8ffr04ZlnngHg448/Zv78+QBs2LCBAw44gAMPPJD//e9/TJs2bdcxDRs2jHsfXJ8+ffjnP//Jpk2b+O6773jxxRf54Q9/WOb3duCBB9KkSZNdrYFPPfUUffv2ZefOnXzxxRf069ePMWPGsG7dOjZu3Mhnn31G165dueaaa8jNzeWTGvQ/XjPrb2aLzWypmV0bZ/sRZvaamc03szfMrFXMtsPN7BUzW2RmC82sdVXWLiIi6a9GtuhBGJDl1VehsDB04xQRqUiDBg3izDPP3GMEzvPOO49TTz2V3NxccnJySm3ZuuSSS7jwwgvJzs4mJyeHnj17AvD973+fbt260blzZ9q0aUOvXr12HTNs2DAGDBhAy5YtmTFjxq713bt354ILLth1jl/+8pd069atxG6axXnyyScZPnw4mzZtok2bNowfP57CwkIGDx7M+vXrcXeuuuoqGjduzA033MCMGTPIyMigU6dODBgwoMzXS0dmlgE8AJwI5AGzzWyyu8f2sb0L+Ju7P2lmxwO3A7+IbPsbcJu7v2pmDYCdVVi+iIhUA1ZSd55Uk5ub66XNIZWoRx+Fiy+GZcsgM7NCTikiKWDRokV07Ngx2WVIGcT7nZnZXHfPTVJJ5WZmxwI3u/vJkdfXAbj77TH7LABOdvc8C31017t7IzPrBIxz996JXq8iPx9FRCS1JfoZWaO7boK6b4qISKU4FPgi5nVeZF2sD4GfRp6fATQ0s2bAkcA6M3vBzD4wszsjLYR7MLNhZjbHzOYUFBRUwlsQEZF0VmODnubSExGRShRvzoyiXWhGAn3N7AOgL/AlsINwW8UPI9t7AG2AC/Y6mfs4d89199wWLVpUYOkiIlId1Nig17w5NGmiFj0REakUecBhMa9bAatid3D3Ve5+prt3A66PrFsfOfYDd1/m7juAfwLdERERKYMaG/TMQvdNteiJiEglmA20N7NMM6sLnAtMjt3BzJqbWfRz+Drg8Zhjm5hZtJnueKDkiRJFRESKqLFBD0L3TQU9ERGpaJGWuMuA6cAiYKK7LzCzUWY2MLLbccBiM/sUOBi4LXJsIaHb5mtm9hGhG+hfq/gtiIhImqux0ytAaNF74gnYsAEaNUp2NSIiUp24+1RgapF1N8Y8nwRMKubYV4HsSi1QRESqtRrfogdq1RORirNixQq6dOlS7vO88cYbvP322xVQUenX+clPflLufURERCS11OigpykWRGq2MWPG7DGpOMCMGTMYM2ZMkiraraqCnoiIiFRPNTrotW0LGRlq0ROpqXr06MHZZ5+9K+zNmDGDs88+mx49epTrvDt27OD8888nOzubs846i02bNgEwd+5c+vbty1FHHcXJJ5/M6tWrAbjvvvvo1KkT2dnZnHvuuaxYsYKHH36Ye+65h5ycHGbNmrXH+W+++WbOP/98TjrpJFq3bs0LL7zA7373O7p27Ur//v3Zvn07AK+99hrdunWja9euDB06lK1btwLw8ssv06FDB3r37s0LL7yw67zfffcdQ4cOpUePHnTr1o2XXnqpXD8HERERSZ4afY9e3brQpo2Cnkh1deWVVzJv3rwS9znkkEM4+eSTadmyJatXr6Zjx47ccsst3HLLLXH3z8nJYezYsSWec/HixTz22GP06tWLoUOH8uCDD3LFFVfwm9/8hpdeeokWLVrwj3/8g+uvv57HH3+cO+64g+XLl1OvXj3WrVtH48aNGT58OA0aNGDkyJFxr/HZZ58xY8YMFi5cyLHHHsvzzz/PmDFjOOOMM5gyZQr9+/fnggsu4LXXXuPII49kyJAhPPTQQwwfPpyLL76Y119/nXbt2nHOOefsOudtt93G8ccfz+OPP866devo2bMnJ5xwQik/ZREREUlFNbpFD0L3TXXdFKm5mjRpQsuWLfn8889p2bIlTZo0Kfc5DzvsMHr16gXA4MGDeeutt1i8eDEff/wxJ554Ijk5OYwePZq8vDwAsrOzOe+883j66aepXTux798GDBhAnTp16Nq1K4WFhfTv3x+Arl27smLFChYvXkxmZiZHHnkkAOeffz4zZ87kk08+ITMzk/bt22NmDB48eNc5X3nlFe644w5ycnI47rjj2LJlC59//nm5fx4iIiJS9RL6i8LM+gP3AhnAo+5+R5Htw4FfA4XARmCYuy+MbLsOuCiy7XJ3n57IOatKhw7w6qtQWBi6cYpI9VFayxvs7q55ww038NBDD3HTTTfRr1+/cl3XzPZ67e507tyZd955Z6/9p0yZwsyZM5k8eTK33norCxYsKPUa9erVA6BWrVrUqVNn1zVr1arFjh07cPeE64tyd55//nmyojcwR/zvf/8rtR4RERFJLaW26JlZBvAAMADoBAwys05Fdvu7u3d19xxgDHB35NhOhEliOwP9gQfNLCPBc1aJrCzYuhVWrkzG1UUkmaIhb+LEiYwaNYqJEyfucc/evvr88893Bbpnn32W3r17k5WVRUFBwa7127dvZ8GCBezcuZMvvviCfv36MWbMGNatW8fGjRtp2LAh33777T7X0KFDB1asWMHSpUsBeOqpp+jbty8dOnRg+fLlfPbZZ7vqizr55JP5y1/+siskfvDBB/t8fREREUmuRLpu9gSWuvsyd98GTABOi93B3TfEvDwAiH6VfBowwd23uvtyYGnkfKWes6pEv7jWfXoiNc/s2bOZOHHirha8fv36MXHiRGbPnl2u83bs2JEnn3yS7OxsvvnmGy655BLq1q3LpEmTuOaaa/j+979PTk4Ob7/9NoWFhQwePJiuXbvSrVs3rrrqKho3bsypp57Kiy++GHcwlkTUr1+f8ePH87Of/YyuXbtSq1Ythg8fTv369Rk3bhynnHIKvXv35ogjjth1zA033MD27dvJzs6mS5cu3HDDDeX6OYiIiEjyWEndewDM7Cygv7v/MvL6F8DR7n5Zkf1+DYwA6gLHu/sSM7sfeNfdn47s8xgwLXJIqeeMbBsGDAM4/PDDj1pZwU1vBQVw0EFwzz1w5ZUVemoRSYJFixbRsWPHZJchZRDvd2Zmc909N0klpZ3c3FyfM2dOsssQEZEqkOhnZCItevFu5tgrHbr7A+7eFrgG+EMpxyZ0zsh5x7l7rrvntmjRIoFyy6Z5c2jSRAOyiIiIiIhI9ZHIYCx5wGExr1sBq0rYfwLwUALHluWclcYsDMiirpsiIiIiIlJdJNKiNxtob2aZZlaXMLjK5NgdzKx9zMtTgCWR55OBc82snpllAu2B/yZyzqqUlaWgJ1KdlNYlXVKHflciIiKVo9Sg5+47gMuA6cAiYKK7LzCzUWY2MLLbZWa2wMzmEe7TOz9y7AJgIrAQeBn4tbsXFnfOCn5vCcvKgtWrYcOG0vcVkdRWv3591qxZowCRBtydNWvWUL9+/WSXIiIiUu0kNI+eu08FphZZd2PM8ytKOPY24LZEzpksHTqEx8WLoUeP5NYiIuXTqlUr8vLyKCgoSHYpkoD69evTqlWrZJchIiJS7SQU9Kq76BQLn3yioCeS7urUqUNmZmayyxARERFJqkTu0av22raFjAzdpyciIiIiItWDgh5Qty60aaOgJyIiIiIi1YOCXkRWlubSExERERGR6kFBL6JDB1iyBAoLk12JiIiIiIhI+SjoRWRlwdatsHJlsisREREREREpHwW9iOjIm7pPT0RERERE0p2CXkTsXHoiIiIiIiLpTEEvonlzaNJEA7KIiIiIiEj6U9CLMAutemrRExERERGRdKegF0NTLIiIiIiISHWgoBcjKwu++go2bEh2JSIiIiIiIvtOQS+GBmQREREREZHqQEEvRnSKBXXfFBERERGRdKagF6NtW8jIUIueiIiIiIikNwW9GHXrQps2atETEREREZH0pqBXRFaWWvRERERERCS9KegV0aEDLFkChYXJrkRERERERGTfKOgVkZUFW7fCypXJrkRERERERGTfKOgVoSkWREREREQk3SnoFaEpFkREREREJN3VTnYBqaZ5c2jSRC16IiIiifrwQxg8ONz6UBncy7c9EWZhqVWr9Mei68xg585Qx748piKzxNeV9ecV++i++/cXfZ7oAuEctWuHJSMj/mNx2zIydr+n6PuIfZ+lbSvrEvvvJfpvZseOsBQW7v083rrY59F/P4ksRfd13/27iV1if2elLdGfYezPc19eZ2Tseb5Elth/M7H/dkp7DuFnt2XL7mXr1j1fx1ti9ynvf7OPPQZ9+pTvHIlS0CvCLHTfVNATERFJzKxZ8PHH8NOfhqmK9oV7/CARVdK2RLYncv2yhLOi60oLNCU9lrf2ihYvOBcXpqPvv6w/r+i62OADZQtO0esXDUfbtpUclmIfo+8tXnAobVvsey9rQI0qLZiWtD1e+KpdO7HwFn0fiYTC6M84+rywcPdjdIn+PBN5HfuzTwVmUL/+3ku9erufN226e11GRvmud+CBFVN3IhIKembWH7gXyAAedfc7imwfAfwS2AEUAEPdfaWZ9QPuidm1A3Cuu//TzJ4A+gLrI9sucPd55XkzFSUrC15+OdlViIiIpIf8/PDH0j/+Uf4/gkSqu2jgS8WQX5WKhsXoUtz62KWkVtbSnmdk7Bno6tSpvr+HUoOemWUADwAnAnnAbDOb7O4LY3b7AMh1901mdgkwBjjH3WcAOZHzNAWWAq/EHHe1u0+qmLdScTp0gCeegA0boFGjZFcjIiKS2vLzw60PCnkipavpAS8q2rpYp06yK6m+EhmMpSew1N2Xufs2YAJwWuwO7j7D3TdFXr4LtIpznrOAaTH7pazogCzqvikiIlK6/Hw46KBkVyEiIrESCXqHAl/EvM6LrCvORcC0OOvPBZ4tsu42M5tvZveYWb14JzOzYWY2x8zmFBQUJFBu+WnkTRERkcQp6ImIpJ5Egl68xuW4t+Sa2WAgF7izyPqWQFdgeszq6wj37PUAmgLXxDunu49z91x3z23RokUC5ZZf27ah+4la9EREREqnoCciknoSCXp5wGExr1sBq4ruZGYnANcDA9296ADLZwMvuvv26Ap3X+3BVmA8oYtoSqhbF9q0UYueiIhIIhT0RERSTyJBbzbQ3swyzawuoQvm5NgdzKwb8Agh5OXHOccginTbjLTyYWYGnA58XPbyK4+mWBARESnd1q2wfr2CnohIqik16Ln7DuAyQrfLRcBEd19gZqPMbGBktzuBBsBzZjbPzHYFQTNrTWgRfLPIqZ8xs4+Aj4DmwOhyvpcKlZUFS5ak1jwfIiIiqSZ6+7yCnohIakloHj13nwpMLbLuxpjnJ5Rw7AriDN7i7scnXGUSZGWFbylXrgzdOEVERGRvCnoiIqkpka6bNVKHDuFR3TdFRESKlx+5YaOKxksTEZEEKegVQ1MsiIiIlC4a9NSiJyKSWhT0itG8OTRpohY9ERGRkijoiYikJgW9Yphp5E0REZHS5OeHaYkaNUp2JSIiEktBrwRZWeq6KSIiUpLoHHpmya5ERERiKeiVoEMH+OqrMD+QiIiI7E2TpYuIpCYFvRJEB2RR900RESkrM+tvZovNbKmZXRtn+xFm9pqZzTezN8ysVZHtjczsSzO7v+qqLjsFPRGR1KSgVwIFPRER2RdmlgE8AAwAOgGDzKxTkd3uAv7m7tnAKOD2IttvBd6s7FrLS0FPRCQ1KeiVoG1byMhQ0BMRkTLrCSx192Xuvg2YAJxWZJ9OwGuR5zNit5vZUcDBwCtVUOs+c1fQExFJVQp6JahbF9q00YAsIiJSZocCX8S8zousi/Uh8NPI8zOAhmbWzMxqAX8Gri7pAmY2zMzmmNmcgoKCCiq7bDZuhC1bFPRERFKRgl4pNMWCiIjsg3hjUHqR1yOBvmb2AdAX+BLYAVwKTHX3LyiBu49z91x3z23RokVF1FxmmkNPRCR11U52AakuKwteeQUKC0M3ThERkQTkAYfFvG4FrIrdwd1XAWcCmFkD4Kfuvt7MjgV+aGaXAg2Auma20d33GtAl2RT0RERSl4JeKbKyYOtWWLkydOMUERFJwGygvZllElrqzgV+HruDmTUHvnH3ncB1wOMA7n5ezD4XALmpGPIAoj1GFfRERFKPum6WokOH8KjumyIikih33wFcBkwHFgET3X2BmY0ys4GR3Y4DFpvZp4SBV25LSrHloBY9EZHUpRa9UkSnWPjkExgwILm1iIhI+nD3qcDUIutujHk+CZhUyjmeAJ6ohPIqRDToJekWQRERKYFa9ErRvDk0baoWPRERkaLy86FhQ6hfP9mViIhIUQp6pTALrXoKeiIiInvSHHoiIqlLQS8BWVmaS09ERKQoBT0RkdSloJeADh3gq69g/fpkVyIiIpI6FPRERFKXgl4CogOyqPumiIjIbgp6IiKpS0EvAZpiQUREZE87d4Z59BT0RERSk4JeAtq0gYwMBT0REZGob74JYU9BT0QkNSnoJaBu3RD2NCCLiIhIoMnSRURSW0JBz8z6m9liM1tqZtfG2T7CzBaa2Xwze83MjojZVmhm8yLL5Jj1mWb2npktMbN/mFndinlLlaNDB7XoiYiIRCnoiYiktlKDnpllAA8AA4BOwCAz61Rktw+AXHfPBiYBY2K2bXb3nMgyMGb9n4B73L09sBa4qBzvo9JlZcGSJVBYmOxKREREkk9BT0QktSXSotcTWOruy9x9GzABOC12B3ef4e6bIi/fBVqVdEIzM+B4QigEeBI4vSyFV7WsLNi6FVauTHYlIiIiyaegJyKS2hIJeocCX8S8zousK85FwLSY1/XNbI6ZvWtm0TDXDFjn7jtKO6eZDYscP6egoCCBciuHRt4UERHZraAAzKBZs2RXIiIi8SQS9CzOOo+7o9lgIBe4M2b14e6eC/wcGGtmbctyTncf5+657p7bokWLBMqtHNG59DQgi4iISGjRa948jEo4fgnVAAAgAElEQVQtIiKpJ5GglwccFvO6FbCq6E5mdgJwPTDQ3bdG17v7qsjjMuANoBvwNdDYzGqXdM5U0rx56J7y8svgcSOpiIhIzZGfD0n8/lVEREqRSNCbDbSPjJJZFzgXmBy7g5l1Ax4hhLz8mPVNzKxe5HlzoBew0N0dmAGcFdn1fOCl8r6ZymQG114Lr7wCL7yQ7GpERESSKz9f9+eJiKSyUoNe5D66y4DpwCJgorsvMLNRZhYdRfNOoAHwXJFpFDoCc8zsQ0Kwu8PdF0a2XQOMMLOlhHv2Hquwd1VJfvMbyMmByy+HDRuSXY2IiEjyKOiJiKS22qXvAu4+FZhaZN2NMc9PKOa4t4GuxWxbRhjRM23Urg2PPALHHAM33ghjxya7IhERkeRQ0BMRSW0JTZguu/XsCZdcAn/5C7z/frKrERERqXrbtsG6dQp6IiKpTEFvH9x2W/hw+9WvNIG6iIjUPNHZjhT0RERSl4LePmjcGO65B+bMgYceSnY1IiIiVUuTpYuIpD4FvX10zjlw4onw+9/DqpSeGEJERKRiKeiJiKQ+Bb19ZAYPPhjuU7jqqmRXIyIiUnUU9EREUp+CXjm0awfXXw8TJ4aJ1EVERGoCBT0RkdSnoFdOv/sdZGXBpZfC5s3JrkZERKTy5edD3brQqFGyKxERkeIo6JVTvXphQJbly2H06GRXIyIiUvmic+iZJbsSEREpjoJeBejXD4YMgTvvhIULk12NiIhI5SooULdNEZFUp6BXQe66Cxo0CJOpuye7GhERkcqTnw8tWiS7ChERKYmCXgVp0QLGjIGZM+HJJ5NdjYiISOWJdt0UEZHUpaBXgYYOhV69YORI+PrrZFcjIiJS8dwV9ERE0oGCXgWqVQsefhjWr4drrkl2NSIiIhXvu+/CKNMKeiIiqU1Br4J16QK//S08/jjMmpXsakRERCqW5tATEUkPCnqV4IYb4Igj4Fe/gm3bkl2NiIhIxVHQExFJDwp6leCAA+CBB2DRIvjzn5NdjYiISMVR0BMRSQ8KepXklFPgzDNh1ChYtizZ1YiIiFQMBT0RkfSgoFeJ7r0XateGX/9ac+uJiEj1EA16mkdPRCS1KehVolatYPRoePllmDQp2dWIiIiUX34+NGwI++2X7EpERKQkCnqV7Ne/hm7d4IorYMOGZFcjIiJSPppDT0QkPSjoVbLateGRR+Crr+APf0h2NSIiIuWjoCcikh4U9KpAjx5w6aVw//3wpz+FyWZFRETSkYKeiEh6UNCrIn/8IwwYANdeC5mZcOedCnwiIpJ+CgoU9ERE0kFCQc/M+pvZYjNbambXxtk+wswWmtl8M3vNzI6IrM8xs3fMbEFk2zkxxzxhZsvNbF5kyam4t5V6GjWCKVPg7bfDPXu/+x20aRPm2du0KdnViYiIlG7nzhD0NOKmiEjqKzXomVkG8AAwAOgEDDKzTkV2+wDIdfdsYBIwJrJ+EzDE3TsD/YGxZtY45rir3T0nsswr53tJC8ceC9Onw1tvQXY2jBwZWvjuvluBT0REUtvatVBYqBY9EZF0kEiLXk9gqbsvc/dtwATgtNgd3H2Gu0djyrtAq8j6T919SeT5KiAf0PeAQK9e8OqrMGsWdO0Kv/0ttG0LY8fC5s3Jrk5ERGRvmixdRCR9JBL0DgW+iHmdF1lXnIuAaUVXmllPoC7wWczq2yJdOu8xs3rxTmZmw8xsjpnNKSgoSKDc9NK7N/z73/Dmm9CxI1x1VQh8990HW7YkuzoREZHdFPRERNJHIkHP4qzzuDuaDQZygTuLrG8JPAVc6O47I6uvAzoAPYCmwDXxzunu49w9191zW1TjmwL69IHXX4c33oAjjwzz7rVtC3/5iwKfiIikBgU9EZH0kUjQywMOi3ndClhVdCczOwG4Hhjo7ltj1jcCpgB/cPd3o+vdfbUHW4HxhC6iNV7fviHszZgB7drB5ZeHxwcegK1bSz280njcaC8iIjWJgp6ISPpIJOjNBtqbWaaZ1QXOBSbH7mBm3YBHCCEvP2Z9XeBF4G/u/lyRY1pGHg04Hfi4PG+kujnuuBD4XnstDNZy2WWhpW/KlKqtwx2eegq+9z047TT49NOqvb6IiKSO/Hwwg2bNkl2JiIiUptSg5+47gMuA6cAiYKK7LzCzUWY2MLLbnUAD4LnIVAnRIHg20Ae4IM40Cs+Y2UfAR0BzYHTFva3qwQyOPx5mzgwDtzRsCD/5CZx3XhjeurJ98QWccgoMGQKHHBJaGTt3Dt1K16yp/OuLiEhqyc8PIa927WRXIiIipUloHj13n+ruR7p7W3e/LbLuRnefHHl+grsfHDNVwsDI+qfdvU7M+l3TKLj78e7e1d27uPtgd99YWW8y3ZnBCSfA++/DzTfDc89Bp07w7LOV06Vy5054+OEQ6t58E+69F+bMgSVLYOhQuP9+aN8+jBC6bVvFX19ERFJTfr66bYqIpIuEgp6khrp14aabQuBr0wZ+/nMYOBDy8iruGkuXhlbESy6Bnj3h44/DfYIZGXDwwfDIIzBvHuTmhhFCO3eGf/5T9/CJiNQECnoiIulDQS8NdekCb78dJll//fXQuvfww6Elbl8VFsKf/xwmcZ83Dx59NHQXzczce9+uXcOk71OnQp06cMYZ0K9fCKAiIlJ9KeiJiKQPBb00lZERWtQ++ii0vF1ySQhbS5aU/VwLFsAPfgAjR4YuogsWwEUXhS6jxTGDAQNg/nx48MFwTG4uXHABfPnlPr8tEZFqw8z6m9liM1tqZtfG2X6Emb0WmU/2DTNrFVmfY2bvmNmCyLZzqr76+BT0RETSh4JemmvTJrS8PfYYfPhhaJEbMwZ27Cj92G3bYNQo6NYNli2Dv/8dXnoJDj008evXrh1C5tKlcPXV4b7BI48M9xJ+990+vy0RkbRmZhnAA8AAoBMwyMw6FdntLsKo1NnAKOD2yPpNwBB37wz0B8aaWeOqqbx427bBunUKeiIi6UJBrxowC4OkLFoUWtmuuQaOPjp0wSzOnDnQo0e45++nP4WFC2HQoJJb8Upy4IHwpz/BJ5+EkUFvuSUEvieeKF+XUhGRNNUTWOruy9x9GzABOK3IPp2A1yLPZ0S3u/un7r4k8nwVkA+0qJKqS/D11+FRQU9EJD0o6FUjLVvCCy/ApEmh+2RuLlx/PWzZsnufzZt3B8GCgtCC9+yz0KKC/oTIzIR//APeeiu0DF54YahjxoyKOb+ISJo4FPgi5nVeZF2sD4GfRp6fATQ0sz1mqDOznkBd4LOiFzCzYWY2x8zmFFTBnDvRydIr6vNCREQql4JeNRRtoRsyBP74R8jJgf/8B2bNCs/HjAkBbOHCMGpnZejVC959F555JnwLfPzx4R7CV1/VCJ0iUiPE6x9R9P9+I4G+ZvYB0Bf4EtjV8d7MWgJPARe6+159I9x9nLvnuntuiypIX9GgpxY9EZH0oKBXTTVtCo8/HkbH3LoVfvhD6NMn3GPx6qthVM3GlXzHR61aYQqIxYvDiJ6ffgonnRQGj3nxRXXpFJFqLQ84LOZ1K2BV7A7uvsrdz3T3bsD1kXXrAcysETAF+IO7v1s1JZdMQU9EJL0o6FVzJ50URua8+uqwfPRRGFmzKu23H4wYEQZ8GTcOvvkGzjwzTBPx1FOwfXvV1iMiUgVmA+3NLNPM6gLnApNjdzCz5mYW/Ry+Dng8sr4u8CJhoJbnqrDmEinoiYikFwW9GqBBgzBQypgx4Xmy1KsHF18cWvj+/vcwRcSQIWHQloce2vNeQhGRdObuO4DLgOnAImCiuy8ws1FmFu00fxyw2Mw+BQ4GbousPxvoA1xgZvMiS07VvoO95eeHuVMPPDDZlYiISCIU9KTK1a4dRvj88EOYPBm+9z249FJo3RruvBO+/TbZFYqIlJ+7T3X3I929rbvfFll3o7tPjjyf5O7tI/v80t23RtY/7e513D0nZilhHOWqEZ1Db19HZxYRkaqloCdJU6sWnHoqvP12GJUzOxt+9zs4/PAw7cOaNcmuUEREojRZuohIelHQk6Qzg+OOg1degf/+N4zOOWoUHHEE/Pa3YaqIdOUeBsMREUl3CnoiIulFQU9SSo8eYS7Ajz8OA7bcey+0aQPDh8Pnnye7usS4hwnpf/e7MK9go0Zh1FGNMioi6UxBT0QkvSjoSUrq3Bn+9jdYsgSGDoXx46FdO/j1r1Ozhc8d5s2D664LdfboAffcA506hVFOR46E/v1h9epkVyoiUnbuCnoiIulGQU9SWmZmGJEzGvjGjYO2beHKK+Grr5Jbm3uYruKGGyArC7p1C4PJtGsX5in83/9g6lT417/gkUfgrbfCfYj/93/JrVtEpKy++w42b1bQExFJJwp6khYOPxwefjgEvsGD4f77Q5fOkSOhoKBqa1m0CG6+ObQ6ZmfDH/8Ihx0Wwtzq1WGS+osuCpPWQ7gHcdgwmDsXWrWCgQNDy+TmzVVbt4jIvtIceiIi6UdBT9JK69ahteyTT+BnPwvdIzMzQ5fJyhyl89NPYfRo6No1dMccNSr8wfPAA7BqFbz2WghzLVoUf46OHeHdd8Pk8Q8+CLm5MH9+5dUsIlJRol+oKeiJiKQPBT1JS+3awZNPwoIFoYXsT38Kge/GG2Ht2vKde+vWMJjKI4/Ar34VWu2yskIXzQMPhPvug7w8eOONMP/fwQcnfu569cLALNOnwzffQM+e4Xzu5atZRKQyRVv0SvoyS0REUouCnqS1Dh3g738P98qdfDLcemsIfKNGwfr1pR+/ZQvMnh26hV58MXTvDg0bhsFUhg+HiRPDN9h33w1ffBHus/vNb+CQQ8pX90knhda8E0+EK66AU04J9/SJiKQidd0UEUk/tZNdgEhF6NwZnnsOPvww3D93000wdixcfXUIZg0ahFA3f364Vy66fPwx7NgRztGkCRx1VOhaedRRYcnMDPfYVYYWLWDy5NCNc+TI0HL4xBMwYEDlXE+qP/fwpcUdd4RW6P79w7+nDh0q79+x1Axq0RMRST/madRnLDc31+fMmZPsMiQNzJ0bwt6UKdC8eWiBW7AACgvD9qZNd4e56NK6dfL+GF6wAAYNCi2TV1wR/lCvXz85tUh6+vLLMAjQ9Olw7LGhRXvhwrDtiCNC6OvfH44/PsztmOrMbK675ya7jnRR2Z+PV10V7o/+9ttKu4SIiCQo0c/IhLpumll/M1tsZk